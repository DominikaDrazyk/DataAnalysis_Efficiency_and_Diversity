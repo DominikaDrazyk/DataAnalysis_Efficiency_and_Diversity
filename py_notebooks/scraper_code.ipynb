{
 "cells": [
  {
   "cell_type": "markdown",
   "id": "c979b2db-de62-4cac-9937-8390ff4bf8ce",
   "metadata": {},
   "source": [
    "# Efficiency and Diversity of R&D in Knowledge‑Intensive Services (2005‑2023)\n",
    "\n",
    "## Introduction\n",
    "\n",
    "The knowledge‑intensive services sector ('G‑N' sector in NACE classification, list available: __[LINK](https://ec.europa.eu/eurostat/statistics-explained/index.php?title=Glossary:High-tech_classification_of_manufacturing_industries)__) – including wholesale & retail trade, transportation, information & communication, finance, professional activities and administrative services – has become a major engine of innovation in Europe. \n",
    "\n",
    "A growing body of confessions suggests that gender diversity within research and development (R&D) teams enhances creativity and innovation. As Scientific American reports, diverse groups “are more innovative, more diligent, and better at solving complex problems” because they are able to produce and apply different perspectives (Phillips, 2014). Furthermore, firms with greater gender diversity tend to achieve higher productivity and innovation performance, particularly in knowledge-intensive sectors where collaboration and problem-solving are key (Hoogendoorn et al., 2019). The business press echoes this view — Forbes (2024) reports that companies introducing diversity consistently outperform rivals. \n",
    "\n",
    "The goal is to analyse how efficiently countries from the EU and EFTA convert R&D spending in the knowledge‑intensive services sector into human capital and to examine whether increasing female participation correlates with improved efficiency and labour intensity. Relative shares and growth rates over time will be central to the analysis.\n",
    "\n",
    "**External data sources:**\n",
    "\n",
    "- Business enterprise R&D expenditure in high-tech sectors by NACE Rev. 2 __[LINK: htec_sti_exp2](https://ec.europa.eu/eurostat/databrowser/view/htec_sti_exp2/default/table)__\n",
    "\n",
    "- Business enterprise R&D personnel in high-tech sectors by NACE Rev. 2 __[LINK: htec_sti_pers2](https://ec.europa.eu/eurostat/databrowser/view/htec_sti_pers2/default/table)__\n",
    "\n",
    "- R&D personnel and researchers in business enterprise sector by NACE Rev. 2 activity and sex __[LINK: rd_p_bempoccr2](https://db.nomics.world/Eurostat/rd_p_bempoccr2?dimensions=%7B%22freq%22%3A%5B%22A%22%5D%2C%22nace_r2%22%3A%5B%22G-N%22%5D%7D&tab=table)__ \n",
    "\n",
    "**Objectives:** \n",
    "\n",
    "- O1 Extract Eurostat datasets and metadata.\n",
    "\n",
    "- O2 Pre-process the datasets: clean and transform datasets, unify variable names.\n",
    "\n",
    "- O3 Merge datasets and save them in the .csv format."
   ]
  },
  {
   "cell_type": "markdown",
   "id": "08ef42ab-16f5-4c41-85c5-25aaccc5a427",
   "metadata": {},
   "source": [
    "File metadata:"
   ]
  },
  {
   "cell_type": "code",
   "execution_count": 1,
   "id": "80a6b188-0ed6-4c13-a71e-b4080b06ce65",
   "metadata": {},
   "outputs": [],
   "source": [
    "# __author__ = Dominika Drazyk\n",
    "# __maintainer__ = Dominika Drazyk\n",
    "# __email__ = dominika.a.drazyk@gmail.com\n",
    "# __copyright__ = Dominika Drazyk\n",
    "# __license__ = Apache License 2.0\n",
    "# __version__ = 1.0.0\n",
    "# __status__ = Production\n",
    "# __date__ = 30/09/2025"
   ]
  },
  {
   "cell_type": "markdown",
   "id": "e91dfef4-2d4f-4d30-ae8f-f8fc1a4e7427",
   "metadata": {},
   "source": [
    "Required libraries:"
   ]
  },
  {
   "cell_type": "code",
   "execution_count": 2,
   "id": "e8007077-4d57-470a-bce6-30b1ce2ec108",
   "metadata": {},
   "outputs": [],
   "source": [
    "from selenium import webdriver\n",
    "from selenium.webdriver.chrome.options import Options\n",
    "from bs4 import BeautifulSoup as bs\n",
    "from pyjstat import pyjstat\n",
    "from datetime import datetime\n",
    "import pandas as pd\n",
    "import requests\n",
    "import time\n",
    "import re\n",
    "import os"
   ]
  },
  {
   "cell_type": "markdown",
   "id": "d8540f4d-15cc-49f2-82e6-df526d71f5a7",
   "metadata": {},
   "source": [
    "## O1 Data Scraping Pipeline"
   ]
  },
  {
   "cell_type": "markdown",
   "id": "331d662d-95f4-4abc-83e1-6dd8de850547",
   "metadata": {},
   "source": [
    "### O1.1 Extracting Eurostat datasets\n",
    "\n",
    "Extracting three source datasets from Eurostat using API calls and data transformation techniques."
   ]
  },
  {
   "cell_type": "markdown",
   "id": "9913b998-ef66-4661-b48d-4b7bf1c99bc0",
   "metadata": {},
   "source": [
    "Eurostat provides API access to extract JSON-formatted datasets. The following code extracts expenditure and personnel data, transforming JSON format into pandas DataFrames for further processing."
   ]
  },
  {
   "cell_type": "code",
   "execution_count": 3,
   "id": "60e15c82-4dd2-488e-89c0-3bb511fcef1d",
   "metadata": {},
   "outputs": [
    {
     "name": "stdout",
     "output_type": "stream",
     "text": [
      "• Extracting expenditure data (htec_sti_exp2)\n",
      "✓ Expenditure data extracted: 11,970 records\n",
      "  Sample data: (11970, 6)\n",
      "  freq     unit nace_r2        geo  time       value\n",
      "0    A  MIO_EUR   TOTAL  EU27_2020  2005  107641.827\n",
      "1    A  MIO_EUR   TOTAL  EU27_2020  2006  116175.251\n",
      "2    A  MIO_EUR   TOTAL  EU27_2020  2007  123195.979\n",
      "3    A  MIO_EUR   TOTAL  EU27_2020  2008  131732.974\n",
      "4    A  MIO_EUR   TOTAL  EU27_2020  2009  129092.773\n"
     ]
    }
   ],
   "source": [
    "print(\"• Extracting expenditure data (htec_sti_exp2)\")\n",
    "url_exp2 = \"https://ec.europa.eu/eurostat/api/dissemination/statistics/1.0/data/htec_sti_exp2?lang=en\"\n",
    "response_exp2 = requests.get(url_exp2)\n",
    "response_exp2.raise_for_status()\n",
    "data_exp2 = response_exp2.json()\n",
    "data_exp2 = pyjstat.from_json_stat(data_exp2, naming = 'id')[0]\n",
    "print(f\"✓ Expenditure data extracted: {len(data_exp2):,} records\")\n",
    "print(f\"  Sample data: {data_exp2.shape}\")\n",
    "print(data_exp2.head())"
   ]
  },
  {
   "cell_type": "code",
   "execution_count": 4,
   "id": "832e2623-c8d6-4e17-9b21-f7e05c148f26",
   "metadata": {},
   "outputs": [
    {
     "name": "stdout",
     "output_type": "stream",
     "text": [
      "• Extracting personnel data (htec_sti_pers2)\n",
      "✓ Personnel data extracted: 23,940 records\n",
      "  Sample data: (23940, 7)\n",
      "  freq nace_r2 unit prof_pos        geo  time      value\n",
      "0    A   TOTAL  FTE    TOTAL  EU27_2020  2005   982304.1\n",
      "1    A   TOTAL  FTE    TOTAL  EU27_2020  2006  1036105.4\n",
      "2    A   TOTAL  FTE    TOTAL  EU27_2020  2007  1077303.3\n",
      "3    A   TOTAL  FTE    TOTAL  EU27_2020  2008  1130735.5\n",
      "4    A   TOTAL  FTE    TOTAL  EU27_2020  2009  1123274.0\n"
     ]
    }
   ],
   "source": [
    "print(\"• Extracting personnel data (htec_sti_pers2)\")\n",
    "url_pers2 = \"https://ec.europa.eu/eurostat/api/dissemination/statistics/1.0/data/htec_sti_pers2?lang=en\"\n",
    "response_pers2 = requests.get(url_pers2)\n",
    "response_pers2.raise_for_status()\n",
    "data_pers2 = response_pers2.json()\n",
    "data_pers2 = pyjstat.from_json_stat(data_pers2, naming = 'id')[0]\n",
    "print(f\"✓ Personnel data extracted: {len(data_pers2):,} records\")\n",
    "print(f\"  Sample data: {data_pers2.shape}\")\n",
    "print(data_pers2.head())"
   ]
  },
  {
   "cell_type": "markdown",
   "id": "159431b8-1453-4d57-b391-744ead7ca0d0",
   "metadata": {},
   "source": [
    "The female researcher dataset requires pre-filtering and is available as a CSV file. The dataset is transformed after loading to match the structure of the other two datasets for consistent processing."
   ]
  },
  {
   "cell_type": "code",
   "execution_count": 5,
   "id": "bfb0ad06-68dc-4c87-a867-50402713cabb",
   "metadata": {},
   "outputs": [
    {
     "name": "stdout",
     "output_type": "stream",
     "text": [
      "• Extracting female researcher data\n",
      "✓ Female researcher data processed: 4,769 records\n",
      "  Sample data: (4769, 4)\n",
      "\n",
      "   time geo  fem2_FTE_RSE nace_r2\n",
      "0  2005  AT           NaN     G-N\n",
      "1  2006  AT         999.2     G-N\n",
      "2  2007  AT        1110.0     G-N\n",
      "3  2008  AT           NaN     G-N\n",
      "4  2009  AT        1829.8     G-N\n"
     ]
    }
   ],
   "source": [
    "print(\"• Extracting female researcher data\")\n",
    "url_fem2 = \"https://db.nomics.world/Eurostat/rd_p_bempoccr2?dimensions=%7B%22freq%22%3A%5B%22A%22%5D%2C%22nace_r2%22%3A%5B%22G-N%22%5D%7D&tab=table\"\n",
    "data_fem2 = pd.read_csv('../data/rd_p_bempoccr2.csv')\n",
    "\n",
    "# Process column names\n",
    "for col in data_fem2.columns:\n",
    "    if col.startswith('Annual'):\n",
    "        match = re.search(r'\\.([A-Z]{2,3})\\)$', col)\n",
    "        if match and match.group(1):\n",
    "          geo = match.group(1)\n",
    "        else:\n",
    "          geo = 'UU'\n",
    "        data_fem2 = data_fem2.rename(columns={col: geo})\n",
    "        \n",
    "# Reshape data\n",
    "data_fem2 = data_fem2.melt(id_vars = ['period'], \n",
    "                           value_vars = data_fem2.columns[1:274], \n",
    "                           var_name = 'geo', \n",
    "                           value_name = 'fem2_FTE_RSE')\n",
    "data_fem2 = data_fem2[data_fem2['geo'] != \"UU\"]\n",
    "data_fem2 = data_fem2.rename(columns={'period': 'time'})\n",
    "data_fem2['time'] = data_fem2['time'].map(str)\n",
    "data_fem2['nace_r2'] = 'G-N'\n",
    "print(f\"✓ Female researcher data processed: {len(data_fem2):,} records\")\n",
    "print(f\"  Sample data: {data_fem2.shape}\")\n",
    "print()\n",
    "print(data_fem2.head())"
   ]
  },
  {
   "cell_type": "markdown",
   "id": "45f9d97f-8f29-42e1-af04-f599b427bb7a",
   "metadata": {},
   "source": [
    "### O1.2 Extracting dataset metadata\n",
    "\n",
    "Extract dataset metadata including last update timestamps, data sources, titles, and dataset identifiers from source webpages for documentation and traceability."
   ]
  },
  {
   "cell_type": "markdown",
   "id": "1b7a6539-4ebf-4c89-bdc5-7a6e851799b9",
   "metadata": {},
   "source": [
    "Each source webpage contains metadata that is automatically updated upon data refresh."
   ]
  },
  {
   "cell_type": "code",
   "execution_count": 6,
   "id": "79828f18-5f5e-48e1-97ae-448f445a74c5",
   "metadata": {},
   "outputs": [
    {
     "name": "stdout",
     "output_type": "stream",
     "text": [
      "• Extracting expenditure dataset metadata\n",
      "  Source: https://ec.europa.eu/eurostat/databrowser/view/htec_sti_exp2/default/table\n",
      "  • Webpage opened\n",
      "  • Page source extracted\n",
      "  • Browser closed\n"
     ]
    }
   ],
   "source": [
    "print(\"• Extracting expenditure dataset metadata\")\n",
    "url_exp2_meta = 'https://ec.europa.eu/eurostat/databrowser/view/htec_sti_exp2/default/table'\n",
    "print(f\"  Source: {url_exp2_meta}\")\n",
    "\n",
    "chrome_options = Options()\n",
    "driver_exp2 = webdriver.Chrome(options = chrome_options)\n",
    "driver_exp2.get(url_exp2_meta)\n",
    "print(\"  • Webpage opened\")\n",
    "time.sleep(20) \n",
    "r = driver_exp2.page_source\n",
    "print(\"  • Page source extracted\")\n",
    "soup_exp2 = bs(r, \"html.parser\")\n",
    "driver_exp2.close()\n",
    "print(\"  • Browser closed\")"
   ]
  },
  {
   "cell_type": "code",
   "execution_count": 7,
   "id": "a7d7b78a-eae7-4a6b-8ff1-19f049835d51",
   "metadata": {},
   "outputs": [
    {
     "name": "stdout",
     "output_type": "stream",
     "text": [
      "  • Parsing metadata fields\n",
      "    - Last updated: 29/09/2025 23:00\n",
      "    - Source: Eurostat\n",
      "    - Title: Business enterprise R&D expenditure in high-tech sectors by NACE Rev. 2\n",
      "    - Dataset ID: htec_sti_exp2\n"
     ]
    }
   ],
   "source": [
    "print(\"  • Parsing metadata fields\")\n",
    "body = soup_exp2.find('body')\n",
    "marker = body.find('span', string = \"last update\")\n",
    "tag = marker.find_next(\"b\", class_ = \"infobox-text-data\")\n",
    "exp2_date = tag.get_text(strip = True)\n",
    "print(f\"    - Last updated: {exp2_date}\")\n",
    "\n",
    "marker = body.find('span', string = \"Source of data:\")\n",
    "tag = marker.find_next(\"span\")\n",
    "exp2_source = tag.get_text(strip = True)\n",
    "print(f\"    - Source: {exp2_source}\")\n",
    "\n",
    "exp2_title = soup_exp2.find('h1', class_ = \"ecl-page-header__title\").get_text()\n",
    "print(f\"    - Title: {exp2_title}\")\n",
    "\n",
    "marker = body.find('span', string = \"Online data code:\")\n",
    "tag = marker.find_next(\"b\", class_ = \"infobox-text-data\")\n",
    "exp2_id = tag.get_text(strip = True)\n",
    "print(f\"    - Dataset ID: {exp2_id}\")\n",
    "\n",
    "exp2_meta = [exp2_id, exp2_source, exp2_title, exp2_date]"
   ]
  },
  {
   "cell_type": "code",
   "execution_count": 8,
   "id": "2a422252-26e3-4d28-b976-037d8ce75d8d",
   "metadata": {},
   "outputs": [
    {
     "name": "stdout",
     "output_type": "stream",
     "text": [
      "• Extracting personnel dataset metadata\n",
      "  Source: https://ec.europa.eu/eurostat/databrowser/view/htec_sti_pers2/default/table\n",
      "  • Webpage opened\n",
      "  • Page source extracted\n",
      "  • Browser closed\n"
     ]
    }
   ],
   "source": [
    "print(\"• Extracting personnel dataset metadata\")\n",
    "url_pers2_meta = 'https://ec.europa.eu/eurostat/databrowser/view/htec_sti_pers2/default/table'\n",
    "print(f\"  Source: {url_pers2_meta}\")\n",
    "\n",
    "chrome_options = Options()\n",
    "driver_pers2 = webdriver.Chrome(options = chrome_options)\n",
    "driver_pers2.get(url_pers2_meta)\n",
    "print(\"  • Webpage opened\")\n",
    "time.sleep(20) \n",
    "r = driver_pers2.page_source\n",
    "print(\"  • Page source extracted\")\n",
    "soup_pers2 = bs(r, \"html.parser\")\n",
    "driver_pers2.close()\n",
    "print(\"  • Browser closed\")"
   ]
  },
  {
   "cell_type": "code",
   "execution_count": 9,
   "id": "70a0ad3a-e0d4-41a9-9f16-d4162a550770",
   "metadata": {},
   "outputs": [
    {
     "name": "stdout",
     "output_type": "stream",
     "text": [
      "  • Parsing metadata fields\n",
      "    - Last updated: 29/09/2025 23:00\n",
      "    - Source: Eurostat\n",
      "    - Title: Business enterprise R&D personnel in high-tech sectors by NACE Rev. 2\n",
      "    - Dataset ID: htec_sti_pers2\n"
     ]
    }
   ],
   "source": [
    "print(\"  • Parsing metadata fields\")\n",
    "body = soup_pers2.find('body')\n",
    "marker = body.find('span', string = \"last update\")\n",
    "tag = marker.find_next(\"b\", class_ = \"infobox-text-data\")\n",
    "pers2_date = tag.get_text(strip = True)\n",
    "print(f\"    - Last updated: {pers2_date}\")\n",
    "\n",
    "marker = body.find('span', string = \"Source of data:\")\n",
    "tag = marker.find_next(\"span\")\n",
    "pers2_source = tag.get_text(strip = True)\n",
    "print(f\"    - Source: {pers2_source}\")\n",
    "\n",
    "pers2_title = soup_pers2.find('h1', class_ = \"ecl-page-header__title\").get_text()\n",
    "print(f\"    - Title: {pers2_title}\")\n",
    "\n",
    "marker = body.find('span', string = \"Online data code:\")\n",
    "tag = marker.find_next(\"b\", class_ = \"infobox-text-data\")\n",
    "pers2_id = tag.get_text(strip = True)\n",
    "print(f\"    - Dataset ID: {pers2_id}\")\n",
    "\n",
    "pers2_meta = [pers2_id, pers2_source, pers2_title, pers2_date]"
   ]
  },
  {
   "cell_type": "code",
   "execution_count": 10,
   "id": "2c1337af-f405-4055-bd74-b508f4bde6ce",
   "metadata": {},
   "outputs": [
    {
     "name": "stdout",
     "output_type": "stream",
     "text": [
      "• Extracting female researcher dataset metadata\n",
      "  Source: https://db.nomics.world/Eurostat/rd_p_bempoccr2?dimensions=%7B%22freq%22%3A%5B%22A%22%5D%2C%22nace_r2%22%3A%5B%22G-N%22%5D%7D&tab=table\n",
      "  • Webpage opened\n",
      "  • Page source extracted\n",
      "  • Browser closed\n"
     ]
    }
   ],
   "source": [
    "print(\"• Extracting female researcher dataset metadata\")\n",
    "url_fem2_meta = 'https://db.nomics.world/Eurostat/rd_p_bempoccr2?dimensions=%7B%22freq%22%3A%5B%22A%22%5D%2C%22nace_r2%22%3A%5B%22G-N%22%5D%7D&tab=table'\n",
    "print(f\"  Source: {url_fem2_meta}\")\n",
    "\n",
    "chrome_options = Options()\n",
    "driver_fem2 = webdriver.Chrome(options = chrome_options)\n",
    "driver_fem2.get(url_fem2_meta)\n",
    "print(\"  • Webpage opened\")\n",
    "time.sleep(20) \n",
    "r = driver_fem2.page_source\n",
    "print(\"  • Page source extracted\")\n",
    "soup_fem2 = bs(r, \"html.parser\")\n",
    "driver_fem2.close()\n",
    "print(\"  • Browser closed\")"
   ]
  },
  {
   "cell_type": "code",
   "execution_count": 11,
   "id": "8bd91489-ff3a-4920-a4aa-435421e90f4a",
   "metadata": {},
   "outputs": [
    {
     "name": "stdout",
     "output_type": "stream",
     "text": [
      "  • Parsing metadata fields\n",
      "    - Last updated: 02/05/2025 11:00\n",
      "    - Source: Eurostat\n",
      "    - Title: R&D personnel and researchers in business enterprise sector by NACE Rev. 2 activity and sex\n",
      "    - Dataset ID: rd_​p_​bempoccr2\n"
     ]
    }
   ],
   "source": [
    "print(\"  • Parsing metadata fields\")\n",
    "body = soup_fem2.find('body')\n",
    "marker = body.find(\"p\", class_ = \"my-8\")\n",
    "text = marker.get_text(strip = True)\n",
    "match = re.search(r'on(\\w+\\s+\\d+,\\s+\\d+)\\s+\\((\\d+:\\d+\\s+[AP]M)\\)', text)\n",
    "if match:\n",
    "    date_str = match.group(1)\n",
    "    time_str = match.group(2)\n",
    "    dt = datetime.strptime(f\"{date_str} {time_str}\", \"%B %d, %Y %I:%M %p\")\n",
    "    fem2_date = dt.strftime(\"%d/%m/%Y %H:%M\")\n",
    "    print(f\"    - Last updated: {fem2_date}\")\n",
    "else: \n",
    "    fem2_date = 'None'\n",
    "    print(f\"    - Last updated: {fem2_date}\")\n",
    "\n",
    "div = body.find('div', class_ = \"container\")\n",
    "span = div.find('span', class_ = \"hover:text-foreground transition-colors\")\n",
    "a = span.find_next('a', class_ = \"text-muted-foreground link\")\n",
    "fem2_source = a.get_text(strip = True)[1:-1]\n",
    "print(f\"    - Source: {fem2_source}\")\n",
    "\n",
    "div = body.find('div', class_ = \"container\")\n",
    "h1 = div.find('h1', class_ = \"text-3xl mb-10\")\n",
    "spans = h1.find_all('span')\n",
    "fem2_title = spans[3].get_text(strip = True)\n",
    "print(f\"    - Title: {fem2_title}\")\n",
    "\n",
    "marker = h1.find('span', class_ = \"text-muted-foreground\")\n",
    "fem2_id = marker.get_text(strip = True)[1:-1]\n",
    "print(f\"    - Dataset ID: {fem2_id}\")\n",
    "\n",
    "fem2_meta = [fem2_id, fem2_source, fem2_title, fem2_date]"
   ]
  },
  {
   "cell_type": "code",
   "execution_count": 12,
   "id": "b1e52741-532d-46e0-a95f-3b6a813218eb",
   "metadata": {},
   "outputs": [
    {
     "name": "stdout",
     "output_type": "stream",
     "text": [
      "• Creating metadata dataset\n",
      "✓ Metadata dataset created: 3 datasets\n",
      "         dataset_id dataset_source  \\\n",
      "0     htec_sti_exp2       Eurostat   \n",
      "1    htec_sti_pers2       Eurostat   \n",
      "2  rd_​p_​bempoccr2       Eurostat   \n",
      "\n",
      "                                       dataset_title dataset_last_updated  \n",
      "0  Business enterprise R&D expenditure in high-te...     29/09/2025 23:00  \n",
      "1  Business enterprise R&D personnel in high-tech...     29/09/2025 23:00  \n",
      "2  R&D personnel and researchers in business ente...     02/05/2025 11:00  \n"
     ]
    }
   ],
   "source": [
    "print(\"• Creating metadata dataset\")\n",
    "meta = pd.DataFrame([exp2_meta, pers2_meta, fem2_meta], \n",
    "                   columns = ['dataset_id', 'dataset_source', 'dataset_title', 'dataset_last_updated'])\n",
    "print(f\"✓ Metadata dataset created: {meta.shape[0]} datasets\")\n",
    "print(meta)"
   ]
  },
  {
   "cell_type": "code",
   "execution_count": 13,
   "id": "4f1d8a24-ffa8-49b5-bd09-39e520fded66",
   "metadata": {},
   "outputs": [
    {
     "name": "stdout",
     "output_type": "stream",
     "text": [
      "• Saving metadata\n",
      "✓ Metadata saved: ../data/scraper_metadata.csv\n",
      "\n"
     ]
    }
   ],
   "source": [
    "print(\"• Saving metadata\")\n",
    "meta.to_csv('../data/scraper_metadata.csv', encoding='utf-8', index = False)\n",
    "print(\"✓ Metadata saved: ../data/scraper_metadata.csv\")\n",
    "print()"
   ]
  },
  {
   "cell_type": "markdown",
   "id": "ea4951ee-4c16-44c8-beb0-62566a0b430b",
   "metadata": {},
   "source": [
    "### O1.3 Extracting EU + EFTA countries list\n",
    "\n",
    "Extract the list of European Union and European Free Trade Association (EFTA) countries from official Eurostat documentation for filtering."
   ]
  },
  {
   "cell_type": "code",
   "execution_count": 14,
   "id": "38e2533d-62de-4208-beb7-480dbaac7ae3",
   "metadata": {},
   "outputs": [
    {
     "name": "stdout",
     "output_type": "stream",
     "text": [
      "• Source: https://ec.europa.eu/eurostat/statistics-explained/index.php?title=Glossary:Country_codes\n",
      "  • Webpage opened\n",
      "  • Page source extracted\n",
      "  • Browser closed\n"
     ]
    }
   ],
   "source": [
    "url_countries_meta = 'https://ec.europa.eu/eurostat/statistics-explained/index.php?title=Glossary:Country_codes'\n",
    "print(f\"• Source: {url_countries_meta}\")\n",
    "\n",
    "chrome_options = Options()\n",
    "driver_co = webdriver.Chrome(options = chrome_options)\n",
    "driver_co.get(url_countries_meta)\n",
    "print(\"  • Webpage opened\")\n",
    "time.sleep(20) \n",
    "r = driver_co.page_source\n",
    "print(\"  • Page source extracted\")\n",
    "soup_co = bs(r, \"html.parser\")\n",
    "driver_co.close()\n",
    "print(\"  • Browser closed\")"
   ]
  },
  {
   "cell_type": "code",
   "execution_count": 15,
   "id": "ead29833-0929-4d11-8b25-db79350e3c53",
   "metadata": {},
   "outputs": [
    {
     "name": "stdout",
     "output_type": "stream",
     "text": [
      "  • Parsing country data from tables\n",
      "    - Belgium: BE\n",
      "    - Greece: EL\n",
      "    - Lithuania: LT\n",
      "    - Portugal: PT\n",
      "    - Bulgaria: BG\n",
      "    - Spain: ES\n",
      "    - Luxembourg: LU\n",
      "    - Romania: RO\n",
      "    - Czechia: CZ\n",
      "    - France: FR\n",
      "    - Hungary: HU\n",
      "    - Slovenia: SI\n",
      "    - Denmark: DK\n",
      "    - Croatia: HR\n",
      "    - Malta: MT\n",
      "    - Slovakia: SK\n",
      "    - Germany: DE\n",
      "    - Italy: IT\n",
      "    - Netherlands: NL\n",
      "    - Finland: FI\n",
      "    - Estonia: EE\n",
      "    - Cyprus: CY\n",
      "    - Austria: AT\n",
      "    - Sweden: SE\n",
      "    - Ireland: IE\n",
      "    - Latvia: LV\n",
      "    - Poland: PL\n",
      "    - Iceland: IS\n",
      "    - Norway: NO\n",
      "    - Liechtenstein: LI\n",
      "    - Switzerland: CH\n",
      "✓ Countries extracted: 31 countries\n"
     ]
    }
   ],
   "source": [
    "print(\"  • Parsing country data from tables\")\n",
    "content_div = soup_co.find('div', {'id': 'mw-content-text'})\n",
    "tables = content_div.find_all('table')\n",
    "eu_efta_countries = []\n",
    "\n",
    "for i, table in enumerate(tables):\n",
    "    if (i == 0) or (i == 1):  \n",
    "        rows = table.find_all('tr')\n",
    "        for row in rows:\n",
    "            cells = row.find_all('td')\n",
    "            for j in range(0, len(cells), 2):\n",
    "                if j + 1 < len(cells):\n",
    "                    if cells[j].get_text(strip=True) == '':\n",
    "                        j = j + 1\n",
    "                    country_name = cells[j].get_text(strip=True)\n",
    "                    country_code = cells[j + 1].get_text(strip=True)\n",
    "                    country_code = country_code.replace('(', '').replace(')', '').strip()\n",
    "                    print(f\"    - {country_name}: {country_code}\")\n",
    "\n",
    "                    country_data = {'Country': country_name, 'geo': country_code}\n",
    "                    eu_efta_countries.append(country_data)\n",
    "\n",
    "eu_efta_countries_df = pd.DataFrame.from_dict(eu_efta_countries)\n",
    "print(f\"✓ Countries extracted: {len(eu_efta_countries_df)} countries\")"
   ]
  },
  {
   "cell_type": "code",
   "execution_count": 16,
   "id": "edbc772e-0158-4ade-bbd9-74d4005dce6f",
   "metadata": {},
   "outputs": [
    {
     "name": "stdout",
     "output_type": "stream",
     "text": [
      "• Saving countries list\n",
      "✓ Countries saved: ../data/eu_efta_countries.csv\n",
      "\n"
     ]
    }
   ],
   "source": [
    "print(\"• Saving countries list\")\n",
    "eu_efta_countries_df.to_csv('../data/eu_efta_countries.csv', encoding = 'utf-8', index = False)\n",
    "print(\"✓ Countries saved: ../data/eu_efta_countries.csv\")\n",
    "print()"
   ]
  },
  {
   "cell_type": "markdown",
   "id": "8a1fdcd1-423a-4b4d-a8ce-80d8edfb693a",
   "metadata": {},
   "source": [
    "## O2 Preprocessing datasets\n",
    "\n",
    "This section removes unnecessary columns, and transforms datasets from long to wide format to prepare for merging and analysis."
   ]
  },
  {
   "cell_type": "code",
   "execution_count": 17,
   "id": "a4fc4fb3-7472-4e5c-a888-0c50c9023f94",
   "metadata": {},
   "outputs": [
    {
     "name": "stdout",
     "output_type": "stream",
     "text": [
      "<class 'pandas.core.frame.DataFrame'>\n",
      "RangeIndex: 11970 entries, 0 to 11969\n",
      "Data columns (total 6 columns):\n",
      " #   Column   Non-Null Count  Dtype  \n",
      "---  ------   --------------  -----  \n",
      " 0   freq     11970 non-null  object \n",
      " 1   unit     11970 non-null  object \n",
      " 2   nace_r2  11970 non-null  object \n",
      " 3   geo      11970 non-null  object \n",
      " 4   time     11970 non-null  object \n",
      " 5   value    7262 non-null   float64\n",
      "dtypes: float64(1), object(5)\n",
      "memory usage: 561.2+ KB\n",
      "None\n",
      "<class 'pandas.core.frame.DataFrame'>\n",
      "RangeIndex: 23940 entries, 0 to 23939\n",
      "Data columns (total 7 columns):\n",
      " #   Column    Non-Null Count  Dtype  \n",
      "---  ------    --------------  -----  \n",
      " 0   freq      23940 non-null  object \n",
      " 1   nace_r2   23940 non-null  object \n",
      " 2   unit      23940 non-null  object \n",
      " 3   prof_pos  23940 non-null  object \n",
      " 4   geo       23940 non-null  object \n",
      " 5   time      23940 non-null  object \n",
      " 6   value     12908 non-null  float64\n",
      "dtypes: float64(1), object(6)\n",
      "memory usage: 1.3+ MB\n",
      "None\n",
      "<class 'pandas.core.frame.DataFrame'>\n",
      "Index: 4769 entries, 0 to 5205\n",
      "Data columns (total 4 columns):\n",
      " #   Column        Non-Null Count  Dtype  \n",
      "---  ------        --------------  -----  \n",
      " 0   time          4769 non-null   object \n",
      " 1   geo           4769 non-null   object \n",
      " 2   fem2_FTE_RSE  2944 non-null   float64\n",
      " 3   nace_r2       4769 non-null   object \n",
      "dtypes: float64(1), object(3)\n",
      "memory usage: 186.3+ KB\n",
      "None\n"
     ]
    }
   ],
   "source": [
    "print(data_exp2.info())\n",
    "print(data_pers2.info())\n",
    "print(data_fem2.info())"
   ]
  },
  {
   "cell_type": "code",
   "execution_count": 18,
   "id": "a94e09e2-915d-42a1-94b5-bd72d73b491b",
   "metadata": {},
   "outputs": [
    {
     "name": "stdout",
     "output_type": "stream",
     "text": [
      "freq          1\n",
      "unit          2\n",
      "nace_r2       7\n",
      "geo          45\n",
      "time         19\n",
      "value      5739\n",
      "dtype: int64\n",
      "freq            1\n",
      "nace_r2         7\n",
      "unit            2\n",
      "prof_pos        2\n",
      "geo            45\n",
      "time           19\n",
      "value       10163\n",
      "dtype: int64\n",
      "time              19\n",
      "geo               38\n",
      "fem2_FTE_RSE    2685\n",
      "nace_r2            1\n",
      "dtype: int64\n"
     ]
    }
   ],
   "source": [
    "print(data_exp2.nunique())\n",
    "print(data_pers2.nunique())\n",
    "print(data_fem2.nunique())"
   ]
  },
  {
   "cell_type": "markdown",
   "id": "3c54841e-f4e4-4f9f-afaf-eec00c4c1459",
   "metadata": {},
   "source": [
    "Both expenditure and personnel datasets contain a categorical variable *freq* with only one level. This variable is removed during data cleaning as it provides no analytical value. "
   ]
  },
  {
   "cell_type": "code",
   "execution_count": 19,
   "id": "c87f14e9-00e0-4518-9188-866cd21b3b8f",
   "metadata": {},
   "outputs": [
    {
     "name": "stdout",
     "output_type": "stream",
     "text": [
      "• Cleaning datasets\n",
      "  ✓ Unused columns removed\n"
     ]
    }
   ],
   "source": [
    "print(\"• Cleaning datasets\")\n",
    "data_exp2.drop(columns = ['freq'], inplace = True)\n",
    "data_pers2.drop(columns = ['freq'], inplace = True) \n",
    "print(\"  ✓ Unused columns removed\")"
   ]
  },
  {
   "cell_type": "markdown",
   "id": "11eb18b3-e14f-478c-9908-845633a6968c",
   "metadata": {},
   "source": [
    "The expenditure and personnel datasets share common categorical variables (*nace_r2*, *geo*, *time*) that serve as merge keys. The remaining categorical variables (*unit* for expenditure data; *unit* and *prof_pos* for personnel data) represent different metrics stored in the *value* column. These variables are transformed into separate columns (*exp2_MIO_EUR*, *exp2_PC_TOT*, *pers2_FTE_RSE*, *pers2_FTE_TOTAL*, *pers2_HC_RSE*, *pers2_HC_TOTAL*) through pivot operations to enable proper dataset merging."
   ]
  },
  {
   "cell_type": "code",
   "execution_count": 20,
   "id": "24b27aad-8a83-4085-9cd4-dcd256193c3a",
   "metadata": {},
   "outputs": [
    {
     "name": "stdout",
     "output_type": "stream",
     "text": [
      "Dataset exp2, 'unit' levels  :  ['MIO_EUR', 'PC_TOT']\n",
      "Dataset pers2, 'unit' levels :  ['FTE', 'HC'] \n",
      "\n",
      "Dataset pers2, 'prof_pos' levels :  ['TOTAL', 'RSE'] \n",
      "\n",
      "Dataset exp2, 'nace_r2' levels  :  ['TOTAL', 'C', 'C_HTC_M', 'C_HTC', 'C_LTC_M', 'C_LTC', 'G-N']\n",
      "Dataset pers2, 'nace_r2' levels :  ['TOTAL', 'C', 'C_HTC_M', 'C_HTC', 'C_LTC_M', 'C_LTC', 'G-N']\n",
      "Dataset fem2, 'nace_r2' levels :  ['G-N'] \n",
      "\n",
      "Dataset exp2, 'geo' levels  :  ['EU27_2020', 'EA20', 'EA19', 'BE', 'BG', 'CZ', 'DK', 'DE', 'EE', 'IE', 'EL', 'ES', 'FR', 'HR', 'IT', 'CY', 'LV', 'LT', 'LU', 'HU', 'MT', 'NL', 'AT', 'PL', 'PT', 'RO', 'SI', 'SK', 'FI', 'SE', 'IS', 'NO', 'CH', 'UK', 'BA', 'ME', 'MK', 'AL', 'RS', 'TR', 'RU', 'US', 'CN_X_HK', 'JP', 'KR']\n",
      "Dataset pers2, 'geo' levels :  ['EU27_2020', 'EA20', 'EA19', 'BE', 'BG', 'CZ', 'DK', 'DE', 'EE', 'IE', 'EL', 'ES', 'FR', 'HR', 'IT', 'CY', 'LV', 'LT', 'LU', 'HU', 'MT', 'NL', 'AT', 'PL', 'PT', 'RO', 'SI', 'SK', 'FI', 'SE', 'IS', 'NO', 'CH', 'UK', 'BA', 'ME', 'MK', 'AL', 'RS', 'TR', 'RU', 'US', 'CN_X_HK', 'JP', 'KR']\n",
      "Dataset fem2, 'geo' levels :  ['AT', 'BA', 'BE', 'BG', 'CY', 'CZ', 'DE', 'DK', 'EE', 'EL', 'ES', 'FR', 'HR', 'HU', 'IE', 'IS', 'IT', 'LT', 'LU', 'LV', 'ME', 'MK', 'MT', 'PL', 'PT', 'RO', 'RS', 'SE', 'SI', 'SK', 'TR', 'CH', 'FI', 'NL', 'NO', 'UK', 'JP', 'KR'] \n",
      "\n",
      "Dataset exp2, 'time' levels  :  ['2005', '2006', '2007', '2008', '2009', '2010', '2011', '2012', '2013', '2014', '2015', '2016', '2017', '2018', '2019', '2020', '2021', '2022', '2023']\n",
      "Dataset pers2, 'time' levels :  ['2005', '2006', '2007', '2008', '2009', '2010', '2011', '2012', '2013', '2014', '2015', '2016', '2017', '2018', '2019', '2020', '2021', '2022', '2023']\n",
      "Dataset fem2, 'time' levels :  ['2005', '2006', '2007', '2008', '2009', '2010', '2011', '2012', '2013', '2014', '2015', '2016', '2017', '2018', '2019', '2020', '2021', '2022', '2023']\n"
     ]
    }
   ],
   "source": [
    "print('Dataset exp2, \\'unit\\' levels  : ', data_exp2['unit'].unique().tolist())\n",
    "print('Dataset pers2, \\'unit\\' levels : ', data_pers2['unit'].unique().tolist(), '\\n')\n",
    "print('Dataset pers2, \\'prof_pos\\' levels : ', data_pers2['prof_pos'].unique().tolist(), '\\n')\n",
    "print('Dataset exp2, \\'nace_r2\\' levels  : ', data_exp2['nace_r2'].unique().tolist())\n",
    "print('Dataset pers2, \\'nace_r2\\' levels : ', data_pers2['nace_r2'].unique().tolist())\n",
    "print('Dataset fem2, \\'nace_r2\\' levels : ', data_fem2['nace_r2'].unique().tolist(), '\\n')\n",
    "print('Dataset exp2, \\'geo\\' levels  : ', data_exp2['geo'].unique().tolist())\n",
    "print('Dataset pers2, \\'geo\\' levels : ', data_pers2['geo'].unique().tolist())\n",
    "print('Dataset fem2, \\'geo\\' levels : ', data_fem2['geo'].unique().tolist(), '\\n')\n",
    "print('Dataset exp2, \\'time\\' levels  : ', data_exp2['time'].unique().tolist())\n",
    "print('Dataset pers2, \\'time\\' levels : ', data_pers2['time'].unique().tolist())\n",
    "print('Dataset fem2, \\'time\\' levels : ', data_fem2['time'].unique().tolist())"
   ]
  },
  {
   "cell_type": "code",
   "execution_count": 21,
   "id": "9af4ba7c-8ba2-40e7-8e80-eb3e57e28eee",
   "metadata": {},
   "outputs": [
    {
     "name": "stdout",
     "output_type": "stream",
     "text": [
      "• Transforming expenditure data to wide format\n",
      "  ✓ Expenditure data: 5,985 rows × 5 columns\n",
      "    Sample: (5985, 5)\n"
     ]
    },
    {
     "data": {
      "text/html": [
       "<div>\n",
       "<style scoped>\n",
       "    .dataframe tbody tr th:only-of-type {\n",
       "        vertical-align: middle;\n",
       "    }\n",
       "\n",
       "    .dataframe tbody tr th {\n",
       "        vertical-align: top;\n",
       "    }\n",
       "\n",
       "    .dataframe thead th {\n",
       "        text-align: right;\n",
       "    }\n",
       "</style>\n",
       "<table border=\"1\" class=\"dataframe\">\n",
       "  <thead>\n",
       "    <tr style=\"text-align: right;\">\n",
       "      <th>unit</th>\n",
       "      <th>nace_r2</th>\n",
       "      <th>geo</th>\n",
       "      <th>time</th>\n",
       "      <th>exp2_MIO_EUR</th>\n",
       "      <th>exp2_PC_TOT</th>\n",
       "    </tr>\n",
       "  </thead>\n",
       "  <tbody>\n",
       "    <tr>\n",
       "      <th>0</th>\n",
       "      <td>C</td>\n",
       "      <td>AL</td>\n",
       "      <td>2005</td>\n",
       "      <td>NaN</td>\n",
       "      <td>NaN</td>\n",
       "    </tr>\n",
       "    <tr>\n",
       "      <th>1</th>\n",
       "      <td>C</td>\n",
       "      <td>AL</td>\n",
       "      <td>2006</td>\n",
       "      <td>NaN</td>\n",
       "      <td>NaN</td>\n",
       "    </tr>\n",
       "    <tr>\n",
       "      <th>2</th>\n",
       "      <td>C</td>\n",
       "      <td>AL</td>\n",
       "      <td>2007</td>\n",
       "      <td>NaN</td>\n",
       "      <td>NaN</td>\n",
       "    </tr>\n",
       "    <tr>\n",
       "      <th>3</th>\n",
       "      <td>C</td>\n",
       "      <td>AL</td>\n",
       "      <td>2008</td>\n",
       "      <td>NaN</td>\n",
       "      <td>NaN</td>\n",
       "    </tr>\n",
       "    <tr>\n",
       "      <th>4</th>\n",
       "      <td>C</td>\n",
       "      <td>AL</td>\n",
       "      <td>2009</td>\n",
       "      <td>NaN</td>\n",
       "      <td>NaN</td>\n",
       "    </tr>\n",
       "  </tbody>\n",
       "</table>\n",
       "</div>"
      ],
      "text/plain": [
       "unit nace_r2 geo  time  exp2_MIO_EUR  exp2_PC_TOT\n",
       "0          C  AL  2005           NaN          NaN\n",
       "1          C  AL  2006           NaN          NaN\n",
       "2          C  AL  2007           NaN          NaN\n",
       "3          C  AL  2008           NaN          NaN\n",
       "4          C  AL  2009           NaN          NaN"
      ]
     },
     "execution_count": 21,
     "metadata": {},
     "output_type": "execute_result"
    }
   ],
   "source": [
    "print(\"• Transforming expenditure data to wide format\")\n",
    "data_exp2_wide = data_exp2.pivot(index = ['nace_r2', 'geo', 'time'], columns = 'unit', values = 'value').reset_index()\n",
    "data_exp2_wide = data_exp2_wide.rename(columns=lambda x: f\"exp2_{x}\" if x not in ['nace_r2', 'geo', 'time'] else x)\n",
    "print(f\"  ✓ Expenditure data: {data_exp2_wide.shape[0]:,} rows × {data_exp2_wide.shape[1]} columns\")\n",
    "print(f\"    Sample: {data_exp2_wide.shape}\")\n",
    "data_exp2_wide.head()"
   ]
  },
  {
   "cell_type": "code",
   "execution_count": 23,
   "id": "dc9425eb-23cf-43c2-adc1-69eaaa45d428",
   "metadata": {},
   "outputs": [
    {
     "name": "stdout",
     "output_type": "stream",
     "text": [
      "• Transforming personnel data to wide format\n",
      "  ✓ Personnel data: 5,985 rows × 7 columns\n",
      "    Sample: (5985, 7)\n"
     ]
    },
    {
     "data": {
      "text/html": [
       "<div>\n",
       "<style scoped>\n",
       "    .dataframe tbody tr th:only-of-type {\n",
       "        vertical-align: middle;\n",
       "    }\n",
       "\n",
       "    .dataframe tbody tr th {\n",
       "        vertical-align: top;\n",
       "    }\n",
       "\n",
       "    .dataframe thead th {\n",
       "        text-align: right;\n",
       "    }\n",
       "</style>\n",
       "<table border=\"1\" class=\"dataframe\">\n",
       "  <thead>\n",
       "    <tr style=\"text-align: right;\">\n",
       "      <th></th>\n",
       "      <th>nace_r2</th>\n",
       "      <th>geo</th>\n",
       "      <th>time</th>\n",
       "      <th>pers2_FTE_RSE</th>\n",
       "      <th>pers2_FTE_TOTAL</th>\n",
       "      <th>pers2_HC_RSE</th>\n",
       "      <th>pers2_HC_TOTAL</th>\n",
       "    </tr>\n",
       "  </thead>\n",
       "  <tbody>\n",
       "    <tr>\n",
       "      <th>0</th>\n",
       "      <td>C</td>\n",
       "      <td>AL</td>\n",
       "      <td>2005</td>\n",
       "      <td>NaN</td>\n",
       "      <td>NaN</td>\n",
       "      <td>NaN</td>\n",
       "      <td>NaN</td>\n",
       "    </tr>\n",
       "    <tr>\n",
       "      <th>1</th>\n",
       "      <td>C</td>\n",
       "      <td>AL</td>\n",
       "      <td>2006</td>\n",
       "      <td>NaN</td>\n",
       "      <td>NaN</td>\n",
       "      <td>NaN</td>\n",
       "      <td>NaN</td>\n",
       "    </tr>\n",
       "    <tr>\n",
       "      <th>2</th>\n",
       "      <td>C</td>\n",
       "      <td>AL</td>\n",
       "      <td>2007</td>\n",
       "      <td>NaN</td>\n",
       "      <td>NaN</td>\n",
       "      <td>NaN</td>\n",
       "      <td>NaN</td>\n",
       "    </tr>\n",
       "    <tr>\n",
       "      <th>3</th>\n",
       "      <td>C</td>\n",
       "      <td>AL</td>\n",
       "      <td>2008</td>\n",
       "      <td>NaN</td>\n",
       "      <td>NaN</td>\n",
       "      <td>NaN</td>\n",
       "      <td>NaN</td>\n",
       "    </tr>\n",
       "    <tr>\n",
       "      <th>4</th>\n",
       "      <td>C</td>\n",
       "      <td>AL</td>\n",
       "      <td>2009</td>\n",
       "      <td>NaN</td>\n",
       "      <td>NaN</td>\n",
       "      <td>NaN</td>\n",
       "      <td>NaN</td>\n",
       "    </tr>\n",
       "  </tbody>\n",
       "</table>\n",
       "</div>"
      ],
      "text/plain": [
       "  nace_r2 geo  time  pers2_FTE_RSE  pers2_FTE_TOTAL  pers2_HC_RSE  \\\n",
       "0       C  AL  2005            NaN              NaN           NaN   \n",
       "1       C  AL  2006            NaN              NaN           NaN   \n",
       "2       C  AL  2007            NaN              NaN           NaN   \n",
       "3       C  AL  2008            NaN              NaN           NaN   \n",
       "4       C  AL  2009            NaN              NaN           NaN   \n",
       "\n",
       "   pers2_HC_TOTAL  \n",
       "0             NaN  \n",
       "1             NaN  \n",
       "2             NaN  \n",
       "3             NaN  \n",
       "4             NaN  "
      ]
     },
     "execution_count": 23,
     "metadata": {},
     "output_type": "execute_result"
    }
   ],
   "source": [
    "print(\"• Transforming personnel data to wide format\")\n",
    "data_pers2_wide = data_pers2.pivot(index = ['nace_r2', 'geo', 'time', 'prof_pos'], \n",
    "                                   columns = ['unit'], \n",
    "                                   values = 'value').reset_index()\n",
    "data_pers2_wide = data_pers2_wide.pivot(index = ['nace_r2', 'geo', 'time'], \n",
    "                                        columns = ['prof_pos'], \n",
    "                                        values = ['FTE','HC']).reset_index()\n",
    "data_pers2_wide.columns = [\"_\".join([str(c) for c in col if c != \"\"])\n",
    "                            for col in data_pers2_wide.columns.to_flat_index()]\n",
    "data_pers2_wide = data_pers2_wide.rename(columns=lambda x: f\"pers2_{x}\" \n",
    "                                         if x not in ['nace_r2', 'geo', 'time'] else x)\n",
    "print(f\"  ✓ Personnel data: {data_pers2_wide.shape[0]:,} rows × {data_pers2_wide.shape[1]} columns\")\n",
    "print(f\"    Sample: {data_pers2_wide.shape}\")\n",
    "data_pers2_wide.head()"
   ]
  },
  {
   "cell_type": "markdown",
   "id": "dd0ba8bd-76e9-4dbb-8a01-a8762baeb8cc",
   "metadata": {},
   "source": [
    "## O3 Merging datasets\n",
    "\n",
    "This section merges the preprocessed datasets using common keys and exports the final consolidated dataset for further analysis."
   ]
  },
  {
   "cell_type": "code",
   "execution_count": 24,
   "id": "69f6798b-1073-421f-adbb-b30bd64f71f5",
   "metadata": {},
   "outputs": [
    {
     "name": "stdout",
     "output_type": "stream",
     "text": [
      "• Merging all datasets\n",
      "✓ Merged dataset: 10,032 rows × 10 columns\n",
      "  Sample data: (10032, 10)\n",
      "• Dataset summary:\n",
      "  - NACE levels: ['C', 'C_HTC', 'C_HTC_M', 'C_LTC', 'C_LTC_M', 'G-N', 'TOTAL']\n",
      "  - Geographic levels: 45 countries\n",
      "  - Time levels: 19 years\n"
     ]
    },
    {
     "data": {
      "text/html": [
       "<div>\n",
       "<style scoped>\n",
       "    .dataframe tbody tr th:only-of-type {\n",
       "        vertical-align: middle;\n",
       "    }\n",
       "\n",
       "    .dataframe tbody tr th {\n",
       "        vertical-align: top;\n",
       "    }\n",
       "\n",
       "    .dataframe thead th {\n",
       "        text-align: right;\n",
       "    }\n",
       "</style>\n",
       "<table border=\"1\" class=\"dataframe\">\n",
       "  <thead>\n",
       "    <tr style=\"text-align: right;\">\n",
       "      <th></th>\n",
       "      <th>nace_r2</th>\n",
       "      <th>geo</th>\n",
       "      <th>time</th>\n",
       "      <th>pers2_FTE_RSE</th>\n",
       "      <th>pers2_FTE_TOTAL</th>\n",
       "      <th>pers2_HC_RSE</th>\n",
       "      <th>pers2_HC_TOTAL</th>\n",
       "      <th>exp2_MIO_EUR</th>\n",
       "      <th>exp2_PC_TOT</th>\n",
       "      <th>fem2_FTE_RSE</th>\n",
       "    </tr>\n",
       "  </thead>\n",
       "  <tbody>\n",
       "    <tr>\n",
       "      <th>7156</th>\n",
       "      <td>G-N</td>\n",
       "      <td>LU</td>\n",
       "      <td>2017</td>\n",
       "      <td>747.8</td>\n",
       "      <td>1368.8</td>\n",
       "      <td>941.0</td>\n",
       "      <td>1942.0</td>\n",
       "      <td>157.400</td>\n",
       "      <td>39.15</td>\n",
       "      <td>941.0</td>\n",
       "    </tr>\n",
       "    <tr>\n",
       "      <th>4835</th>\n",
       "      <td>G-N</td>\n",
       "      <td>CH</td>\n",
       "      <td>2006</td>\n",
       "      <td>NaN</td>\n",
       "      <td>NaN</td>\n",
       "      <td>NaN</td>\n",
       "      <td>NaN</td>\n",
       "      <td>NaN</td>\n",
       "      <td>NaN</td>\n",
       "      <td>NaN</td>\n",
       "    </tr>\n",
       "    <tr>\n",
       "      <th>3425</th>\n",
       "      <td>C_LTC_M</td>\n",
       "      <td>AL</td>\n",
       "      <td>2010</td>\n",
       "      <td>NaN</td>\n",
       "      <td>NaN</td>\n",
       "      <td>NaN</td>\n",
       "      <td>NaN</td>\n",
       "      <td>NaN</td>\n",
       "      <td>NaN</td>\n",
       "      <td>NaN</td>\n",
       "    </tr>\n",
       "    <tr>\n",
       "      <th>5170</th>\n",
       "      <td>G-N</td>\n",
       "      <td>CZ</td>\n",
       "      <td>2016</td>\n",
       "      <td>10335.6</td>\n",
       "      <td>17866.9</td>\n",
       "      <td>12338.0</td>\n",
       "      <td>23409.0</td>\n",
       "      <td>796.654</td>\n",
       "      <td>43.97</td>\n",
       "      <td>1864.0</td>\n",
       "    </tr>\n",
       "    <tr>\n",
       "      <th>4784</th>\n",
       "      <td>G-N</td>\n",
       "      <td>BG</td>\n",
       "      <td>2018</td>\n",
       "      <td>4768.0</td>\n",
       "      <td>7324.0</td>\n",
       "      <td>5579.0</td>\n",
       "      <td>8603.0</td>\n",
       "      <td>198.116</td>\n",
       "      <td>65.00</td>\n",
       "      <td>1630.0</td>\n",
       "    </tr>\n",
       "    <tr>\n",
       "      <th>832</th>\n",
       "      <td>C</td>\n",
       "      <td>UK</td>\n",
       "      <td>2020</td>\n",
       "      <td>NaN</td>\n",
       "      <td>NaN</td>\n",
       "      <td>NaN</td>\n",
       "      <td>NaN</td>\n",
       "      <td>NaN</td>\n",
       "      <td>NaN</td>\n",
       "      <td>NaN</td>\n",
       "    </tr>\n",
       "    <tr>\n",
       "      <th>566</th>\n",
       "      <td>C</td>\n",
       "      <td>ME</td>\n",
       "      <td>2020</td>\n",
       "      <td>NaN</td>\n",
       "      <td>NaN</td>\n",
       "      <td>NaN</td>\n",
       "      <td>NaN</td>\n",
       "      <td>NaN</td>\n",
       "      <td>NaN</td>\n",
       "      <td>NaN</td>\n",
       "    </tr>\n",
       "    <tr>\n",
       "      <th>2096</th>\n",
       "      <td>C_HTC_M</td>\n",
       "      <td>HU</td>\n",
       "      <td>2011</td>\n",
       "      <td>2220.0</td>\n",
       "      <td>3122.0</td>\n",
       "      <td>2460.0</td>\n",
       "      <td>3613.0</td>\n",
       "      <td>143.401</td>\n",
       "      <td>19.07</td>\n",
       "      <td>NaN</td>\n",
       "    </tr>\n",
       "    <tr>\n",
       "      <th>8204</th>\n",
       "      <td>G-N</td>\n",
       "      <td>PT</td>\n",
       "      <td>2020</td>\n",
       "      <td>13224.2</td>\n",
       "      <td>17949.0</td>\n",
       "      <td>24344.0</td>\n",
       "      <td>33291.0</td>\n",
       "      <td>1064.027</td>\n",
       "      <td>57.72</td>\n",
       "      <td>17949.0</td>\n",
       "    </tr>\n",
       "    <tr>\n",
       "      <th>9086</th>\n",
       "      <td>G-N</td>\n",
       "      <td>UK</td>\n",
       "      <td>2012</td>\n",
       "      <td>50065.0</td>\n",
       "      <td>87618.7</td>\n",
       "      <td>NaN</td>\n",
       "      <td>NaN</td>\n",
       "      <td>11955.061</td>\n",
       "      <td>56.67</td>\n",
       "      <td>NaN</td>\n",
       "    </tr>\n",
       "  </tbody>\n",
       "</table>\n",
       "</div>"
      ],
      "text/plain": [
       "      nace_r2 geo  time  pers2_FTE_RSE  pers2_FTE_TOTAL  pers2_HC_RSE  \\\n",
       "7156      G-N  LU  2017          747.8           1368.8         941.0   \n",
       "4835      G-N  CH  2006            NaN              NaN           NaN   \n",
       "3425  C_LTC_M  AL  2010            NaN              NaN           NaN   \n",
       "5170      G-N  CZ  2016        10335.6          17866.9       12338.0   \n",
       "4784      G-N  BG  2018         4768.0           7324.0        5579.0   \n",
       "832         C  UK  2020            NaN              NaN           NaN   \n",
       "566         C  ME  2020            NaN              NaN           NaN   \n",
       "2096  C_HTC_M  HU  2011         2220.0           3122.0        2460.0   \n",
       "8204      G-N  PT  2020        13224.2          17949.0       24344.0   \n",
       "9086      G-N  UK  2012        50065.0          87618.7           NaN   \n",
       "\n",
       "      pers2_HC_TOTAL  exp2_MIO_EUR  exp2_PC_TOT  fem2_FTE_RSE  \n",
       "7156          1942.0       157.400        39.15         941.0  \n",
       "4835             NaN           NaN          NaN           NaN  \n",
       "3425             NaN           NaN          NaN           NaN  \n",
       "5170         23409.0       796.654        43.97        1864.0  \n",
       "4784          8603.0       198.116        65.00        1630.0  \n",
       "832              NaN           NaN          NaN           NaN  \n",
       "566              NaN           NaN          NaN           NaN  \n",
       "2096          3613.0       143.401        19.07           NaN  \n",
       "8204         33291.0      1064.027        57.72       17949.0  \n",
       "9086             NaN     11955.061        56.67           NaN  "
      ]
     },
     "execution_count": 24,
     "metadata": {},
     "output_type": "execute_result"
    }
   ],
   "source": [
    "print(\"• Merging all datasets\")\n",
    "data = pd.merge(data_pers2_wide, data_exp2_wide, on = ['nace_r2', 'geo', 'time'], how = 'left') \n",
    "data = pd.merge(data, data_fem2, on = ['nace_r2', 'geo', 'time'], how = 'left') \n",
    "print(f\"✓ Merged dataset: {data.shape[0]:,} rows × {data.shape[1]} columns\")\n",
    "print(f\"  Sample data: {data.shape}\")\n",
    "\n",
    "print(\"• Dataset summary:\")\n",
    "print(f\"  - NACE levels: {data['nace_r2'].unique().tolist()}\")\n",
    "print(f\"  - Geographic levels: {len(data['geo'].unique())} countries\")\n",
    "print(f\"  - Time levels: {len(data['time'].unique())} years\")\n",
    "data.sample(10)"
   ]
  },
  {
   "cell_type": "code",
   "execution_count": 25,
   "id": "3080d92a-098b-4399-9a03-371b4cdd685e",
   "metadata": {},
   "outputs": [
    {
     "name": "stdout",
     "output_type": "stream",
     "text": [
      "• Saving merged dataset\n",
      "✓ Merged dataset saved: ../data/scraper_data.csv\n",
      "\n"
     ]
    }
   ],
   "source": [
    "print(\"• Saving merged dataset\")\n",
    "data.to_csv('../data/scraper_data.csv', encoding='utf-8', index = False)\n",
    "print(\"✓ Merged dataset saved: ../data/scraper_data.csv\")\n",
    "print()"
   ]
  }
 ],
 "metadata": {
  "kernelspec": {
   "display_name": "Python 3 (ipykernel)",
   "language": "python",
   "name": "python3"
  },
  "language_info": {
   "codemirror_mode": {
    "name": "ipython",
    "version": 3
   },
   "file_extension": ".py",
   "mimetype": "text/x-python",
   "name": "python",
   "nbconvert_exporter": "python",
   "pygments_lexer": "ipython3",
   "version": "3.13.6"
  }
 },
 "nbformat": 4,
 "nbformat_minor": 5
}
