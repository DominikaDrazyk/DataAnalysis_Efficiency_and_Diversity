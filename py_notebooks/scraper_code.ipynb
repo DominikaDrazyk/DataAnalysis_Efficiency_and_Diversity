{
 "cells": [
  {
   "cell_type": "markdown",
   "id": "c979b2db-de62-4cac-9937-8390ff4bf8ce",
   "metadata": {},
   "source": [
    "# Efficiency and Diversity of R&D in Knowledge‑Intensive Services (2005‑2023)\n",
    "\n",
    "## Introduction\n",
    "\n",
    "The knowledge‑intensive services sector ('G‑N' sector in NACE classification, list available: __[LINK](https://ec.europa.eu/eurostat/statistics-explained/index.php?title=Glossary:High-tech_classification_of_manufacturing_industries)__) – including wholesale & retail trade, transportation, information & communication, finance, professional activities and administrative services – has become a major engine of innovation in Europe. \n",
    "\n",
    "A growing body of confessions suggests that gender diversity within research and development (R&D) teams enhances creativity and innovation. As Scientific American reports, diverse groups “are more innovative, more diligent, and better at solving complex problems” because they are able to produce and apply different perspectives (Phillips, 2014). Furthermore, firms with greater gender diversity tend to achieve higher productivity and innovation performance, particularly in knowledge-intensive sectors where collaboration and problem-solving are key (Hoogendoorn et al., 2019). The business press echoes this view — Forbes (2024) reports that companies introducing diversity consistently outperform rivals. \n",
    "\n",
    "The goal is to analyse how efficiently countries from the EU and EFTA convert R&D spending in the knowledge‑intensive services sector into human capital and to examine whether increasing female participation correlates with improved efficiency and labour intensity. Relative shares and growth rates over time will be central to the analysis.\n",
    "\n",
    "**External data sources:**\n",
    "\n",
    "- Business enterprise R&D expenditure in high-tech sectors by NACE Rev. 2 __[LINK: htec_sti_exp2](https://ec.europa.eu/eurostat/databrowser/view/htec_sti_exp2/default/table)__\n",
    "\n",
    "- Business enterprise R&D personnel in high-tech sectors by NACE Rev. 2 __[LINK: htec_sti_pers2](https://ec.europa.eu/eurostat/databrowser/view/htec_sti_pers2/default/table)__\n",
    "\n",
    "- R&D personnel and researchers in business enterprise sector by NACE Rev. 2 activity and sex __[LINK: rd_p_bempoccr2](https://db.nomics.world/Eurostat/rd_p_bempoccr2?dimensions=%7B%22freq%22%3A%5B%22A%22%5D%2C%22nace_r2%22%3A%5B%22G-N%22%5D%7D&tab=table)__ \n",
    "\n",
    "**Objectives:** \n",
    "\n",
    "- O1 Extract datasets and metadata from the above-mentioned sources.\n",
    "\n",
    "- O2 Pre-process the datasets to unify variable names.\n",
    "\n",
    "- O3 Merge datasets and save in the .csv format."
   ]
  },
  {
   "cell_type": "markdown",
   "id": "08ef42ab-16f5-4c41-85c5-25aaccc5a427",
   "metadata": {},
   "source": [
    "File metadata:"
   ]
  },
  {
   "cell_type": "code",
   "execution_count": 1,
   "id": "80a6b188-0ed6-4c13-a71e-b4080b06ce65",
   "metadata": {},
   "outputs": [],
   "source": [
    "# __author__ = Dominika Drazyk\n",
    "# __maintainer__ = Dominika Drazyk\n",
    "# __email__ = dominika.a.drazyk@gmail.com\n",
    "# __copyright__ = Dominika Drazyk\n",
    "# __license__ = Apache License 2.0\n",
    "# __version__ = 1.0.0\n",
    "# __status__ = Production\n",
    "# __date__ = 30/09/2025"
   ]
  },
  {
   "cell_type": "markdown",
   "id": "e91dfef4-2d4f-4d30-ae8f-f8fc1a4e7427",
   "metadata": {},
   "source": [
    "Required libraries:"
   ]
  },
  {
   "cell_type": "code",
   "execution_count": 2,
   "id": "e8007077-4d57-470a-bce6-30b1ce2ec108",
   "metadata": {},
   "outputs": [],
   "source": [
    "from selenium import webdriver\n",
    "from selenium.webdriver.chrome.options import Options\n",
    "from bs4 import BeautifulSoup as bs\n",
    "from pyjstat import pyjstat\n",
    "from datetime import datetime\n",
    "import pandas as pd\n",
    "import numpy as np\n",
    "import requests\n",
    "import json\n",
    "import time\n",
    "import csv\n",
    "import re\n",
    "import os"
   ]
  },
  {
   "cell_type": "markdown",
   "id": "d8540f4d-15cc-49f2-82e6-df526d71f5a7",
   "metadata": {},
   "source": [
    "## O1 Data extraction using available API"
   ]
  },
  {
   "cell_type": "markdown",
   "id": "331d662d-95f4-4abc-83e1-6dd8de850547",
   "metadata": {},
   "source": [
    "### O1.1 Datasets"
   ]
  },
  {
   "cell_type": "markdown",
   "id": "9913b998-ef66-4661-b48d-4b7bf1c99bc0",
   "metadata": {},
   "source": [
    "Eurostat provides a possibility to extract JSON files of both datasets. The following code extracts the data and transforms a JSON format into a pandas dataframe."
   ]
  },
  {
   "cell_type": "code",
   "execution_count": 3,
   "id": "60e15c82-4dd2-488e-89c0-3bb511fcef1d",
   "metadata": {},
   "outputs": [
    {
     "name": "stdout",
     "output_type": "stream",
     "text": [
      "Data from  https://ec.europa.eu/eurostat/api/dissemination/statistics/1.0/data/htec_sti_exp2?lang=en  was extracted.\n",
      "  freq     unit nace_r2        geo  time       value\n",
      "0    A  MIO_EUR   TOTAL  EU27_2020  2005  107641.827\n",
      "1    A  MIO_EUR   TOTAL  EU27_2020  2006  116175.251\n",
      "2    A  MIO_EUR   TOTAL  EU27_2020  2007  123195.979\n",
      "3    A  MIO_EUR   TOTAL  EU27_2020  2008  131732.974\n",
      "4    A  MIO_EUR   TOTAL  EU27_2020  2009  129092.773\n"
     ]
    }
   ],
   "source": [
    "url_exp2 = \"https://ec.europa.eu/eurostat/api/dissemination/statistics/1.0/data/htec_sti_exp2?lang=en\"\n",
    "\n",
    "response_exp2 = requests.get(url_exp2)\n",
    "response_exp2.raise_for_status()\n",
    "\n",
    "data_exp2 = response_exp2.json()\n",
    "data_exp2 = pyjstat.from_json_stat(data_exp2, naming = 'id')[0]\n",
    "\n",
    "print('Data from ', url_exp2,' was extracted.')\n",
    "print(data_exp2.head())"
   ]
  },
  {
   "cell_type": "code",
   "execution_count": 4,
   "id": "832e2623-c8d6-4e17-9b21-f7e05c148f26",
   "metadata": {},
   "outputs": [
    {
     "name": "stdout",
     "output_type": "stream",
     "text": [
      "Data from  https://ec.europa.eu/eurostat/api/dissemination/statistics/1.0/data/htec_sti_pers2?lang=en  was extracted.\n",
      "  freq nace_r2 unit prof_pos        geo  time      value\n",
      "0    A   TOTAL  FTE    TOTAL  EU27_2020  2005   982304.1\n",
      "1    A   TOTAL  FTE    TOTAL  EU27_2020  2006  1036105.4\n",
      "2    A   TOTAL  FTE    TOTAL  EU27_2020  2007  1077303.3\n",
      "3    A   TOTAL  FTE    TOTAL  EU27_2020  2008  1130735.5\n",
      "4    A   TOTAL  FTE    TOTAL  EU27_2020  2009  1123274.0\n"
     ]
    }
   ],
   "source": [
    "url_pers2 = \"https://ec.europa.eu/eurostat/api/dissemination/statistics/1.0/data/htec_sti_pers2?lang=en\"\n",
    "\n",
    "response_pers2 = requests.get(url_pers2)\n",
    "response_pers2.raise_for_status()\n",
    "\n",
    "data_pers2 = response_pers2.json()\n",
    "data_pers2 = pyjstat.from_json_stat(data_pers2, naming = 'id')[0]\n",
    "\n",
    "print('Data from ', url_pers2,' was extracted.')\n",
    "print(data_pers2.head())"
   ]
  },
  {
   "cell_type": "markdown",
   "id": "159431b8-1453-4d57-b391-744ead7ca0d0",
   "metadata": {},
   "source": [
    "The last dataset was embedded in a different type of webpage, and the filtering must have been done prior to downloading. \n",
    "The pre-filtered dataset was downloaded in the form of a *.csv* file (*rd_p_bempoccr2.csv*).\n",
    "The dataset was transformed after loading to match the structure of the remaining two datasets."
   ]
  },
  {
   "cell_type": "code",
   "execution_count": 5,
   "id": "bfb0ad06-68dc-4c87-a867-50402713cabb",
   "metadata": {},
   "outputs": [
    {
     "name": "stdout",
     "output_type": "stream",
     "text": [
      "Data from  https://db.nomics.world/Eurostat/rd_p_bempoccr2?dimensions=%7B%22freq%22%3A%5B%22A%22%5D%2C%22nace_r2%22%3A%5B%22G-N%22%5D%7D&tab=table  was downloaded.\n",
      "   time geo  fem2_FTE_RSE nace_r2\n",
      "0  2005  AT           NaN     G-N\n",
      "1  2006  AT         999.2     G-N\n",
      "2  2007  AT        1110.0     G-N\n",
      "3  2008  AT           NaN     G-N\n",
      "4  2009  AT        1829.8     G-N\n"
     ]
    }
   ],
   "source": [
    "url_fem2 = \"https://db.nomics.world/Eurostat/rd_p_bempoccr2?dimensions=%7B%22freq%22%3A%5B%22A%22%5D%2C%22nace_r2%22%3A%5B%22G-N%22%5D%7D&tab=table\"\n",
    "data_fem2 = pd.read_csv('../data/rd_p_bempoccr2.csv')\n",
    "\n",
    "for col in data_fem2.columns:\n",
    "    if col.startswith('Annual'):\n",
    "        match = re.search(r'\\.([A-Z]{2,3})\\)$', col)\n",
    "        if match and match.group(1):\n",
    "          geo = match.group(1)\n",
    "        else:\n",
    "          geo = 'UU'\n",
    "        data_fem2 = data_fem2.rename(columns={col: geo})\n",
    "        \n",
    "data_fem2 = data_fem2.melt(id_vars = ['period'], \n",
    "                           value_vars = data_fem2.columns[1:274], \n",
    "                           var_name = 'geo', \n",
    "                           value_name = 'fem2_FTE_RSE')\n",
    "data_fem2 = data_fem2[data_fem2['geo'] != \"UU\"]\n",
    "data_fem2 = data_fem2.rename(columns={'period': 'time'})\n",
    "data_fem2['time'] = data_fem2['time'].map(str)\n",
    "data_fem2['nace_r2'] = 'G-N'\n",
    "\n",
    "print('Data from ', url_fem2,' was downloaded.')\n",
    "print(data_fem2.head())"
   ]
  },
  {
   "cell_type": "markdown",
   "id": "45f9d97f-8f29-42e1-af04-f599b427bb7a",
   "metadata": {},
   "source": [
    "### O1.2 Metadata"
   ]
  },
  {
   "cell_type": "markdown",
   "id": "1b7a6539-4ebf-4c89-bdc5-7a6e851799b9",
   "metadata": {},
   "source": [
    "Each source webpage includes useful metadata that is updated upon the data refresh and can be used for reporting. The following code scraps useful metadata for both datasets: the datetime of the last update, the source, the ID and the long title. "
   ]
  },
  {
   "cell_type": "code",
   "execution_count": 7,
   "id": "79828f18-5f5e-48e1-97ae-448f445a74c5",
   "metadata": {},
   "outputs": [
    {
     "name": "stdout",
     "output_type": "stream",
     "text": [
      "htec_sti_exp2 source webpage:  https://ec.europa.eu/eurostat/databrowser/view/htec_sti_exp2/default/table\n",
      ">>> opened\n",
      ">>> extracted\n",
      ">>> closed\n"
     ]
    }
   ],
   "source": [
    "url_exp2_meta = 'https://ec.europa.eu/eurostat/databrowser/view/htec_sti_exp2/default/table'\n",
    "print('htec_sti_exp2 source webpage: ', url_exp2_meta)\n",
    "chrome_options = Options()\n",
    "driver_exp2 = webdriver.Chrome(options = chrome_options)\n",
    "driver_exp2.get(url_exp2_meta)\n",
    "print('>>> opened')\n",
    "time.sleep(20) \n",
    "r = driver_exp2.page_source\n",
    "print('>>> extracted')\n",
    "soup_exp2 = bs(r, \"html.parser\")\n",
    "driver_exp2.close()\n",
    "print('>>> closed')"
   ]
  },
  {
   "cell_type": "code",
   "execution_count": 8,
   "id": "a7d7b78a-eae7-4a6b-8ff1-19f049835d51",
   "metadata": {},
   "outputs": [
    {
     "name": "stdout",
     "output_type": "stream",
     "text": [
      "htec_sti_exp2 dataset metadata:\n",
      "\n",
      "\t dataset_last_updated:  29/09/2025 23:00\n",
      "\t dataset_source:  Eurostat\n",
      "\t dataset_title:  Business enterprise R&D expenditure in high-tech sectors by NACE Rev. 2\n",
      "\t dataset_id:  htec_sti_exp2\n"
     ]
    }
   ],
   "source": [
    "print('htec_sti_exp2 dataset metadata:\\n')\n",
    "\n",
    "body = soup_exp2.find('body')\n",
    "\n",
    "marker = body.find('span', string = \"last update\")\n",
    "tag = marker.find_next(\"b\", class_ = \"infobox-text-data\")\n",
    "exp2_date = tag.get_text(strip = True)\n",
    "print('\\t dataset_last_updated: ', exp2_date)\n",
    "\n",
    "marker = body.find('span', string = \"Source of data:\")\n",
    "tag = marker.find_next(\"span\")\n",
    "exp2_source = tag.get_text(strip = True)\n",
    "print('\\t dataset_source: ', exp2_source)\n",
    "\n",
    "exp2_title = soup_exp2.find('h1', class_ = \"ecl-page-header__title\").get_text()\n",
    "print('\\t dataset_title: ', exp2_title)\n",
    "\n",
    "marker = body.find('span', string = \"Online data code:\")\n",
    "tag = marker.find_next(\"b\", class_ = \"infobox-text-data\")\n",
    "exp2_id = tag.get_text(strip = True)\n",
    "print('\\t dataset_id: ', exp2_id)\n",
    "\n",
    "exp2_meta = [exp2_id, exp2_source, exp2_title, exp2_date]"
   ]
  },
  {
   "cell_type": "code",
   "execution_count": 9,
   "id": "2a422252-26e3-4d28-b976-037d8ce75d8d",
   "metadata": {},
   "outputs": [
    {
     "name": "stdout",
     "output_type": "stream",
     "text": [
      "htec_sti_pers2 source webpage:  https://ec.europa.eu/eurostat/databrowser/view/htec_sti_pers2/default/table\n",
      ">>> opened\n",
      ">>> extracted\n",
      ">>> closed\n"
     ]
    }
   ],
   "source": [
    "url_pers2_meta = 'https://ec.europa.eu/eurostat/databrowser/view/htec_sti_pers2/default/table'\n",
    "print('htec_sti_pers2 source webpage: ', url_pers2_meta)\n",
    "chrome_options = Options()\n",
    "driver_pers2 = webdriver.Chrome(options = chrome_options)\n",
    "driver_pers2.get(url_pers2_meta)\n",
    "print('>>> opened')\n",
    "time.sleep(20) \n",
    "r = driver_pers2.page_source\n",
    "print('>>> extracted')\n",
    "soup_pers2 = bs(r, \"html.parser\")\n",
    "driver_pers2.close()\n",
    "print('>>> closed')"
   ]
  },
  {
   "cell_type": "code",
   "execution_count": 10,
   "id": "70a0ad3a-e0d4-41a9-9f16-d4162a550770",
   "metadata": {},
   "outputs": [
    {
     "name": "stdout",
     "output_type": "stream",
     "text": [
      "htec_sti_pers2 dataset metadata:\n",
      "\n",
      "\t dataset_last_updated:  29/09/2025 23:00\n",
      "\t dataset_source:  Eurostat\n",
      "\t dataset_title:  Business enterprise R&D personnel in high-tech sectors by NACE Rev. 2\n",
      "\t dataset_id:  htec_sti_pers2\n"
     ]
    }
   ],
   "source": [
    "print('htec_sti_pers2 dataset metadata:\\n')\n",
    "\n",
    "body = soup_pers2.find('body')\n",
    "\n",
    "marker = body.find('span', string = \"last update\")\n",
    "tag = marker.find_next(\"b\", class_ = \"infobox-text-data\")\n",
    "pers2_date = tag.get_text(strip = True)\n",
    "print('\\t dataset_last_updated: ', pers2_date)\n",
    "\n",
    "marker = body.find('span', string = \"Source of data:\")\n",
    "tag = marker.find_next(\"span\")\n",
    "pers2_source = tag.get_text(strip = True)\n",
    "print('\\t dataset_source: ', pers2_source)\n",
    "\n",
    "pers2_title = soup_pers2.find('h1', class_ = \"ecl-page-header__title\").get_text()\n",
    "print('\\t dataset_title: ', pers2_title)\n",
    "\n",
    "marker = body.find('span', string = \"Online data code:\")\n",
    "tag = marker.find_next(\"b\", class_ = \"infobox-text-data\")\n",
    "pers2_id = tag.get_text(strip = True)\n",
    "print('\\t dataset_id: ', pers2_id)\n",
    "\n",
    "pers2_meta = [pers2_id, pers2_source, pers2_title, pers2_date]"
   ]
  },
  {
   "cell_type": "code",
   "execution_count": 11,
   "id": "2c1337af-f405-4055-bd74-b508f4bde6ce",
   "metadata": {},
   "outputs": [
    {
     "name": "stdout",
     "output_type": "stream",
     "text": [
      "rd_p_bempoccr2 source webpage:  https://db.nomics.world/Eurostat/rd_p_bempoccr2?dimensions=%7B%22freq%22%3A%5B%22A%22%5D%2C%22nace_r2%22%3A%5B%22G-N%22%5D%7D&tab=table\n",
      ">>> opened\n",
      ">>> extracted\n",
      ">>> closed\n"
     ]
    }
   ],
   "source": [
    "url_fem2_meta = 'https://db.nomics.world/Eurostat/rd_p_bempoccr2?dimensions=%7B%22freq%22%3A%5B%22A%22%5D%2C%22nace_r2%22%3A%5B%22G-N%22%5D%7D&tab=table'\n",
    "print('rd_p_bempoccr2 source webpage: ', url_fem2_meta)\n",
    "chrome_options = Options()\n",
    "driver_fem2 = webdriver.Chrome(options = chrome_options)\n",
    "driver_fem2.get(url_fem2_meta)\n",
    "print('>>> opened')\n",
    "time.sleep(20) \n",
    "r = driver_fem2.page_source\n",
    "print('>>> extracted')\n",
    "soup_fem2 = bs(r, \"html.parser\")\n",
    "driver_fem2.close()\n",
    "print('>>> closed')"
   ]
  },
  {
   "cell_type": "code",
   "execution_count": 12,
   "id": "8bd91489-ff3a-4920-a4aa-435421e90f4a",
   "metadata": {},
   "outputs": [
    {
     "name": "stdout",
     "output_type": "stream",
     "text": [
      "rd_p_bempoccr2 dataset metadata:\n",
      "\n",
      "\t dataset_last_updated:  02/05/2025 11:00\n",
      "\t dataset_source:  Eurostat\n",
      "\t dataset_title:  R&D personnel and researchers in business enterprise sector by NACE Rev. 2 activity and sex\n",
      "\t dataset_id:  rd_​p_​bempoccr2\n"
     ]
    }
   ],
   "source": [
    "print('rd_p_bempoccr2 dataset metadata:\\n')\n",
    "\n",
    "body = soup_fem2.find('body')\n",
    "\n",
    "marker = body.find(\"p\", class_ = \"my-8\")\n",
    "text = marker.get_text(strip = True)\n",
    "match = re.search(r'on(\\w+\\s+\\d+,\\s+\\d+)\\s+\\((\\d+:\\d+\\s+[AP]M)\\)', text)\n",
    "if match:\n",
    "    date_str = match.group(1)\n",
    "    time_str = match.group(2)\n",
    "    \n",
    "    dt = datetime.strptime(f\"{date_str} {time_str}\", \"%B %d, %Y %I:%M %p\")\n",
    "    fem2_date = dt.strftime(\"%d/%m/%Y %H:%M\")\n",
    "    print('\\t dataset_last_updated: ', fem2_date)\n",
    "else: fem2_date = 'None'\n",
    "\n",
    "div = body.find('div', class_ = \"container\")\n",
    "span = div.find('span', class_ = \"hover:text-foreground transition-colors\")\n",
    "a = span.find_next('a', class_ = \"text-muted-foreground link\")\n",
    "fem2_source = a.get_text(strip = True)[1:-1]\n",
    "print('\\t dataset_source: ', fem2_source)\n",
    "\n",
    "div = body.find('div', class_ = \"container\")\n",
    "h1 = div.find('h1', class_ = \"text-3xl mb-10\")\n",
    "spans = h1.find_all('span')\n",
    "fem2_title = spans[3].get_text(strip = True)\n",
    "print('\\t dataset_title: ', fem2_title)\n",
    "\n",
    "marker = h1.find('span', class_ = \"text-muted-foreground\")\n",
    "fem2_id = marker.get_text(strip = True)[1:-1]\n",
    "print('\\t dataset_id: ', fem2_id)\n",
    "\n",
    "fem2_meta = [fem2_id, fem2_source, fem2_title, fem2_date]"
   ]
  },
  {
   "cell_type": "code",
   "execution_count": 13,
   "id": "b1e52741-532d-46e0-a95f-3b6a813218eb",
   "metadata": {},
   "outputs": [
    {
     "name": "stdout",
     "output_type": "stream",
     "text": [
      "Metadata dataset was created:\n"
     ]
    },
    {
     "data": {
      "text/html": [
       "<div>\n",
       "<style scoped>\n",
       "    .dataframe tbody tr th:only-of-type {\n",
       "        vertical-align: middle;\n",
       "    }\n",
       "\n",
       "    .dataframe tbody tr th {\n",
       "        vertical-align: top;\n",
       "    }\n",
       "\n",
       "    .dataframe thead th {\n",
       "        text-align: right;\n",
       "    }\n",
       "</style>\n",
       "<table border=\"1\" class=\"dataframe\">\n",
       "  <thead>\n",
       "    <tr style=\"text-align: right;\">\n",
       "      <th></th>\n",
       "      <th>dataset_id</th>\n",
       "      <th>dataset_source</th>\n",
       "      <th>dataset_title</th>\n",
       "      <th>dataset_last_updated</th>\n",
       "    </tr>\n",
       "  </thead>\n",
       "  <tbody>\n",
       "    <tr>\n",
       "      <th>0</th>\n",
       "      <td>htec_sti_exp2</td>\n",
       "      <td>Eurostat</td>\n",
       "      <td>Business enterprise R&amp;D expenditure in high-te...</td>\n",
       "      <td>29/09/2025 23:00</td>\n",
       "    </tr>\n",
       "    <tr>\n",
       "      <th>1</th>\n",
       "      <td>htec_sti_pers2</td>\n",
       "      <td>Eurostat</td>\n",
       "      <td>Business enterprise R&amp;D personnel in high-tech...</td>\n",
       "      <td>29/09/2025 23:00</td>\n",
       "    </tr>\n",
       "    <tr>\n",
       "      <th>2</th>\n",
       "      <td>rd_​p_​bempoccr2</td>\n",
       "      <td>Eurostat</td>\n",
       "      <td>R&amp;D personnel and researchers in business ente...</td>\n",
       "      <td>02/05/2025 11:00</td>\n",
       "    </tr>\n",
       "  </tbody>\n",
       "</table>\n",
       "</div>"
      ],
      "text/plain": [
       "         dataset_id dataset_source  \\\n",
       "0     htec_sti_exp2       Eurostat   \n",
       "1    htec_sti_pers2       Eurostat   \n",
       "2  rd_​p_​bempoccr2       Eurostat   \n",
       "\n",
       "                                       dataset_title dataset_last_updated  \n",
       "0  Business enterprise R&D expenditure in high-te...     29/09/2025 23:00  \n",
       "1  Business enterprise R&D personnel in high-tech...     29/09/2025 23:00  \n",
       "2  R&D personnel and researchers in business ente...     02/05/2025 11:00  "
      ]
     },
     "execution_count": 13,
     "metadata": {},
     "output_type": "execute_result"
    }
   ],
   "source": [
    "meta = pd.DataFrame([exp2_meta,pers2_meta,fem2_meta], columns = ['dataset_id', 'dataset_source', 'dataset_title', 'dataset_last_updated'])\n",
    "print('Metadata dataset was created:')\n",
    "meta"
   ]
  },
  {
   "cell_type": "code",
   "execution_count": 14,
   "id": "4f1d8a24-ffa8-49b5-bd09-39e520fded66",
   "metadata": {},
   "outputs": [
    {
     "name": "stdout",
     "output_type": "stream",
     "text": [
      "Metadata dataset was saved into '../data/scraper_metadata.csv'.\n"
     ]
    }
   ],
   "source": [
    "meta.to_csv('../data/scraper_metadata.csv', encoding='utf-8', index = False)\n",
    "print('Metadata dataset was saved into \\'../data/scraper_metadata.csv\\'.')"
   ]
  },
  {
   "cell_type": "markdown",
   "id": "ea4951ee-4c16-44c8-beb0-62566a0b430b",
   "metadata": {},
   "source": [
    "List of European + EFTA countries"
   ]
  },
  {
   "cell_type": "code",
   "execution_count": 15,
   "id": "38e2533d-62de-4208-beb7-480dbaac7ae3",
   "metadata": {},
   "outputs": [
    {
     "name": "stdout",
     "output_type": "stream",
     "text": [
      "European+EFTA countries source webpage:  https://ec.europa.eu/eurostat/statistics-explained/index.php?title=Glossary:Country_codes\n",
      ">>> opened\n",
      ">>> extracted\n",
      ">>> closed\n"
     ]
    }
   ],
   "source": [
    "url_countries_meta = 'https://ec.europa.eu/eurostat/statistics-explained/index.php?title=Glossary:Country_codes'\n",
    "print('European+EFTA countries source webpage: ', url_countries_meta)\n",
    "chrome_options = Options()\n",
    "driver_co = webdriver.Chrome(options = chrome_options)\n",
    "driver_co.get(url_countries_meta)\n",
    "print('>>> opened')\n",
    "time.sleep(20) \n",
    "r = driver_co.page_source\n",
    "print('>>> extracted')\n",
    "soup_co = bs(r, \"html.parser\")\n",
    "driver_co.close()\n",
    "print('>>> closed')"
   ]
  },
  {
   "cell_type": "code",
   "execution_count": 16,
   "id": "ead29833-0929-4d11-8b25-db79350e3c53",
   "metadata": {},
   "outputs": [
    {
     "name": "stdout",
     "output_type": "stream",
     "text": [
      "Country: Belgium, geo: BE\n",
      "Country: Greece, geo: EL\n",
      "Country: Lithuania, geo: LT\n",
      "Country: Portugal, geo: PT\n",
      "Country: Bulgaria, geo: BG\n",
      "Country: Spain, geo: ES\n",
      "Country: Luxembourg, geo: LU\n",
      "Country: Romania, geo: RO\n",
      "Country: Czechia, geo: CZ\n",
      "Country: France, geo: FR\n",
      "Country: Hungary, geo: HU\n",
      "Country: Slovenia, geo: SI\n",
      "Country: Denmark, geo: DK\n",
      "Country: Croatia, geo: HR\n",
      "Country: Malta, geo: MT\n",
      "Country: Slovakia, geo: SK\n",
      "Country: Germany, geo: DE\n",
      "Country: Italy, geo: IT\n",
      "Country: Netherlands, geo: NL\n",
      "Country: Finland, geo: FI\n",
      "Country: Estonia, geo: EE\n",
      "Country: Cyprus, geo: CY\n",
      "Country: Austria, geo: AT\n",
      "Country: Sweden, geo: SE\n",
      "Country: Ireland, geo: IE\n",
      "Country: Latvia, geo: LV\n",
      "Country: Poland, geo: PL\n",
      "Country: Iceland, geo: IS\n",
      "Country: Norway, geo: NO\n",
      "Country: Liechtenstein, geo: LI\n",
      "Country: Switzerland, geo: CH\n"
     ]
    }
   ],
   "source": [
    "content_div = soup_co.find('div', {'id': 'mw-content-text'})\n",
    "tables = content_div.find_all('table')\n",
    "    \n",
    "eu_efta_countries = []\n",
    "    \n",
    "for i, table in enumerate(tables):\n",
    "    if (i == 0)  or (i == 1):  \n",
    "        rows = table.find_all('tr')\n",
    "        \n",
    "        for row in rows:\n",
    "            cells = row.find_all('td')\n",
    "            \n",
    "            for j in range(0, len(cells), 2):\n",
    "                if j + 1 < len(cells):\n",
    "                    if cells[j].get_text(strip=True) == '':\n",
    "                        j = j + 1\n",
    "                    country_name = cells[j].get_text(strip=True)\n",
    "                    country_code = cells[j + 1].get_text(strip=True)\n",
    "                    country_code = country_code.replace('(', '').replace(')', '').strip()\n",
    "                    print(f\"Country: {country_name}, geo: {country_code}\")\n",
    "    \n",
    "                    country_data = {'Country': country_name, 'geo': country_code}\n",
    "                    eu_efta_countries.append(country_data)\n",
    "eu_efta_countries_df = pd.DataFrame.from_dict(eu_efta_countries)"
   ]
  },
  {
   "cell_type": "code",
   "execution_count": 17,
   "id": "edbc772e-0158-4ade-bbd9-74d4005dce6f",
   "metadata": {},
   "outputs": [
    {
     "name": "stdout",
     "output_type": "stream",
     "text": [
      "EU + EFTA countries list was saved into '../data/eu_efta_countries.csv'.\n"
     ]
    }
   ],
   "source": [
    "eu_efta_countries_df.to_csv('../data/eu_efta_countries.csv', encoding = 'utf-8', index = False)\n",
    "print('EU + EFTA countries list was saved into \\'../data/eu_efta_countries.csv\\'.')"
   ]
  },
  {
   "cell_type": "markdown",
   "id": "8a1fdcd1-423a-4b4d-a8ce-80d8edfb693a",
   "metadata": {},
   "source": [
    "## O2 Cleaning and pre-processing datasets"
   ]
  },
  {
   "cell_type": "code",
   "execution_count": 18,
   "id": "a4fc4fb3-7472-4e5c-a888-0c50c9023f94",
   "metadata": {},
   "outputs": [
    {
     "name": "stdout",
     "output_type": "stream",
     "text": [
      "<class 'pandas.core.frame.DataFrame'>\n",
      "RangeIndex: 11970 entries, 0 to 11969\n",
      "Data columns (total 6 columns):\n",
      " #   Column   Non-Null Count  Dtype  \n",
      "---  ------   --------------  -----  \n",
      " 0   freq     11970 non-null  object \n",
      " 1   unit     11970 non-null  object \n",
      " 2   nace_r2  11970 non-null  object \n",
      " 3   geo      11970 non-null  object \n",
      " 4   time     11970 non-null  object \n",
      " 5   value    7262 non-null   float64\n",
      "dtypes: float64(1), object(5)\n",
      "memory usage: 561.2+ KB\n",
      "None\n",
      "<class 'pandas.core.frame.DataFrame'>\n",
      "RangeIndex: 23940 entries, 0 to 23939\n",
      "Data columns (total 7 columns):\n",
      " #   Column    Non-Null Count  Dtype  \n",
      "---  ------    --------------  -----  \n",
      " 0   freq      23940 non-null  object \n",
      " 1   nace_r2   23940 non-null  object \n",
      " 2   unit      23940 non-null  object \n",
      " 3   prof_pos  23940 non-null  object \n",
      " 4   geo       23940 non-null  object \n",
      " 5   time      23940 non-null  object \n",
      " 6   value     12908 non-null  float64\n",
      "dtypes: float64(1), object(6)\n",
      "memory usage: 1.3+ MB\n",
      "None\n",
      "<class 'pandas.core.frame.DataFrame'>\n",
      "Index: 4769 entries, 0 to 5205\n",
      "Data columns (total 4 columns):\n",
      " #   Column        Non-Null Count  Dtype  \n",
      "---  ------        --------------  -----  \n",
      " 0   time          4769 non-null   object \n",
      " 1   geo           4769 non-null   object \n",
      " 2   fem2_FTE_RSE  2944 non-null   float64\n",
      " 3   nace_r2       4769 non-null   object \n",
      "dtypes: float64(1), object(3)\n",
      "memory usage: 186.3+ KB\n",
      "None\n"
     ]
    }
   ],
   "source": [
    "print(data_exp2.info())\n",
    "print(data_pers2.info())\n",
    "print(data_fem2.info())"
   ]
  },
  {
   "cell_type": "code",
   "execution_count": 19,
   "id": "a94e09e2-915d-42a1-94b5-bd72d73b491b",
   "metadata": {},
   "outputs": [
    {
     "name": "stdout",
     "output_type": "stream",
     "text": [
      "freq          1\n",
      "unit          2\n",
      "nace_r2       7\n",
      "geo          45\n",
      "time         19\n",
      "value      5739\n",
      "dtype: int64\n",
      "freq            1\n",
      "nace_r2         7\n",
      "unit            2\n",
      "prof_pos        2\n",
      "geo            45\n",
      "time           19\n",
      "value       10163\n",
      "dtype: int64\n",
      "time              19\n",
      "geo               38\n",
      "fem2_FTE_RSE    2685\n",
      "nace_r2            1\n",
      "dtype: int64\n"
     ]
    }
   ],
   "source": [
    "print(data_exp2.nunique())\n",
    "print(data_pers2.nunique())\n",
    "print(data_fem2.nunique())"
   ]
  },
  {
   "cell_type": "markdown",
   "id": "3c54841e-f4e4-4f9f-afaf-eec00c4c1459",
   "metadata": {},
   "source": [
    "Two datasets include a categorical variable *freq* with only one level; the variable will be removed for the purpose of data cleaning. "
   ]
  },
  {
   "cell_type": "code",
   "execution_count": 20,
   "id": "c87f14e9-00e0-4518-9188-866cd21b3b8f",
   "metadata": {},
   "outputs": [
    {
     "name": "stdout",
     "output_type": "stream",
     "text": [
      "Unused columns were removed.\n"
     ]
    }
   ],
   "source": [
    "data_exp2.drop(columns = ['freq'], inplace = True)\n",
    "data_pers2.drop(columns = ['freq'], inplace = True) \n",
    "print('Unused columns were removed.')"
   ]
  },
  {
   "cell_type": "markdown",
   "id": "11eb18b3-e14f-478c-9908-845633a6968c",
   "metadata": {},
   "source": [
    "exp2 and pers2 datasets include identical categorical variables: *nace_r2*, *geo*, *time*, which will be used for dataset merge. The remaining categorical variables (*unit* for exp2 dataset; *unit* and *prof_pos* for pers2 dataset) represent different metrics related to the dataset, represented by the *value* column. Levels of *unit* and *prof_pos* will be transformed to new columns representing those metrics (*exp2_MIO_EUR*, *exp2_PC_TOT*, *pers2_FTE_RSE*, *pers2_FTE_TOTAL*, *pers2_HC_RSE*, *pers2_HC_TOTAL*) to allow for a proper merge (flattening multiindex pivot tables)."
   ]
  },
  {
   "cell_type": "code",
   "execution_count": 21,
   "id": "24b27aad-8a83-4085-9cd4-dcd256193c3a",
   "metadata": {},
   "outputs": [
    {
     "name": "stdout",
     "output_type": "stream",
     "text": [
      "Dataset exp2, 'unit' levels  :  ['MIO_EUR', 'PC_TOT']\n",
      "Dataset pers2, 'unit' levels :  ['FTE', 'HC'] \n",
      "\n",
      "Dataset pers2, 'prof_pos' levels :  ['TOTAL', 'RSE'] \n",
      "\n",
      "Dataset exp2, 'nace_r2' levels  :  ['TOTAL', 'C', 'C_HTC_M', 'C_HTC', 'C_LTC_M', 'C_LTC', 'G-N']\n",
      "Dataset pers2, 'nace_r2' levels :  ['TOTAL', 'C', 'C_HTC_M', 'C_HTC', 'C_LTC_M', 'C_LTC', 'G-N']\n",
      "Dataset fem2, 'nace_r2' levels :  ['G-N'] \n",
      "\n",
      "Dataset exp2, 'geo' levels  :  ['EU27_2020', 'EA20', 'EA19', 'BE', 'BG', 'CZ', 'DK', 'DE', 'EE', 'IE', 'EL', 'ES', 'FR', 'HR', 'IT', 'CY', 'LV', 'LT', 'LU', 'HU', 'MT', 'NL', 'AT', 'PL', 'PT', 'RO', 'SI', 'SK', 'FI', 'SE', 'IS', 'NO', 'CH', 'UK', 'BA', 'ME', 'MK', 'AL', 'RS', 'TR', 'RU', 'US', 'CN_X_HK', 'JP', 'KR']\n",
      "Dataset pers2, 'geo' levels :  ['EU27_2020', 'EA20', 'EA19', 'BE', 'BG', 'CZ', 'DK', 'DE', 'EE', 'IE', 'EL', 'ES', 'FR', 'HR', 'IT', 'CY', 'LV', 'LT', 'LU', 'HU', 'MT', 'NL', 'AT', 'PL', 'PT', 'RO', 'SI', 'SK', 'FI', 'SE', 'IS', 'NO', 'CH', 'UK', 'BA', 'ME', 'MK', 'AL', 'RS', 'TR', 'RU', 'US', 'CN_X_HK', 'JP', 'KR']\n",
      "Dataset fem2, 'geo' levels :  ['AT', 'BA', 'BE', 'BG', 'CY', 'CZ', 'DE', 'DK', 'EE', 'EL', 'ES', 'FR', 'HR', 'HU', 'IE', 'IS', 'IT', 'LT', 'LU', 'LV', 'ME', 'MK', 'MT', 'PL', 'PT', 'RO', 'RS', 'SE', 'SI', 'SK', 'TR', 'CH', 'FI', 'NL', 'NO', 'UK', 'JP', 'KR'] \n",
      "\n",
      "Dataset exp2, 'time' levels  :  ['2005', '2006', '2007', '2008', '2009', '2010', '2011', '2012', '2013', '2014', '2015', '2016', '2017', '2018', '2019', '2020', '2021', '2022', '2023']\n",
      "Dataset pers2, 'time' levels :  ['2005', '2006', '2007', '2008', '2009', '2010', '2011', '2012', '2013', '2014', '2015', '2016', '2017', '2018', '2019', '2020', '2021', '2022', '2023']\n",
      "Dataset fem2, 'time' levels :  ['2005', '2006', '2007', '2008', '2009', '2010', '2011', '2012', '2013', '2014', '2015', '2016', '2017', '2018', '2019', '2020', '2021', '2022', '2023']\n"
     ]
    }
   ],
   "source": [
    "print('Dataset exp2, \\'unit\\' levels  : ', data_exp2['unit'].unique().tolist())\n",
    "print('Dataset pers2, \\'unit\\' levels : ', data_pers2['unit'].unique().tolist(), '\\n')\n",
    "print('Dataset pers2, \\'prof_pos\\' levels : ', data_pers2['prof_pos'].unique().tolist(), '\\n')\n",
    "print('Dataset exp2, \\'nace_r2\\' levels  : ', data_exp2['nace_r2'].unique().tolist())\n",
    "print('Dataset pers2, \\'nace_r2\\' levels : ', data_pers2['nace_r2'].unique().tolist())\n",
    "print('Dataset fem2, \\'nace_r2\\' levels : ', data_fem2['nace_r2'].unique().tolist(), '\\n')\n",
    "print('Dataset exp2, \\'geo\\' levels  : ', data_exp2['geo'].unique().tolist())\n",
    "print('Dataset pers2, \\'geo\\' levels : ', data_pers2['geo'].unique().tolist())\n",
    "print('Dataset fem2, \\'geo\\' levels : ', data_fem2['geo'].unique().tolist(), '\\n')\n",
    "print('Dataset exp2, \\'time\\' levels  : ', data_exp2['time'].unique().tolist())\n",
    "print('Dataset pers2, \\'time\\' levels : ', data_pers2['time'].unique().tolist())\n",
    "print('Dataset fem2, \\'time\\' levels : ', data_fem2['time'].unique().tolist())"
   ]
  },
  {
   "cell_type": "code",
   "execution_count": 22,
   "id": "9af4ba7c-8ba2-40e7-8e80-eb3e57e28eee",
   "metadata": {},
   "outputs": [
    {
     "name": "stdout",
     "output_type": "stream",
     "text": [
      "Dataset exp2 was transformed into a wide format:\n"
     ]
    },
    {
     "data": {
      "text/html": [
       "<div>\n",
       "<style scoped>\n",
       "    .dataframe tbody tr th:only-of-type {\n",
       "        vertical-align: middle;\n",
       "    }\n",
       "\n",
       "    .dataframe tbody tr th {\n",
       "        vertical-align: top;\n",
       "    }\n",
       "\n",
       "    .dataframe thead th {\n",
       "        text-align: right;\n",
       "    }\n",
       "</style>\n",
       "<table border=\"1\" class=\"dataframe\">\n",
       "  <thead>\n",
       "    <tr style=\"text-align: right;\">\n",
       "      <th>unit</th>\n",
       "      <th>nace_r2</th>\n",
       "      <th>geo</th>\n",
       "      <th>time</th>\n",
       "      <th>exp2_MIO_EUR</th>\n",
       "      <th>exp2_PC_TOT</th>\n",
       "    </tr>\n",
       "  </thead>\n",
       "  <tbody>\n",
       "    <tr>\n",
       "      <th>0</th>\n",
       "      <td>C</td>\n",
       "      <td>AL</td>\n",
       "      <td>2005</td>\n",
       "      <td>NaN</td>\n",
       "      <td>NaN</td>\n",
       "    </tr>\n",
       "    <tr>\n",
       "      <th>1</th>\n",
       "      <td>C</td>\n",
       "      <td>AL</td>\n",
       "      <td>2006</td>\n",
       "      <td>NaN</td>\n",
       "      <td>NaN</td>\n",
       "    </tr>\n",
       "    <tr>\n",
       "      <th>2</th>\n",
       "      <td>C</td>\n",
       "      <td>AL</td>\n",
       "      <td>2007</td>\n",
       "      <td>NaN</td>\n",
       "      <td>NaN</td>\n",
       "    </tr>\n",
       "    <tr>\n",
       "      <th>3</th>\n",
       "      <td>C</td>\n",
       "      <td>AL</td>\n",
       "      <td>2008</td>\n",
       "      <td>NaN</td>\n",
       "      <td>NaN</td>\n",
       "    </tr>\n",
       "    <tr>\n",
       "      <th>4</th>\n",
       "      <td>C</td>\n",
       "      <td>AL</td>\n",
       "      <td>2009</td>\n",
       "      <td>NaN</td>\n",
       "      <td>NaN</td>\n",
       "    </tr>\n",
       "  </tbody>\n",
       "</table>\n",
       "</div>"
      ],
      "text/plain": [
       "unit nace_r2 geo  time  exp2_MIO_EUR  exp2_PC_TOT\n",
       "0          C  AL  2005           NaN          NaN\n",
       "1          C  AL  2006           NaN          NaN\n",
       "2          C  AL  2007           NaN          NaN\n",
       "3          C  AL  2008           NaN          NaN\n",
       "4          C  AL  2009           NaN          NaN"
      ]
     },
     "execution_count": 22,
     "metadata": {},
     "output_type": "execute_result"
    }
   ],
   "source": [
    "data_exp2_wide = data_exp2.pivot(index = ['nace_r2', 'geo', 'time'], columns = 'unit', values = 'value').reset_index()\n",
    "data_exp2_wide = data_exp2_wide.rename(columns=lambda x: f\"exp2_{x}\" if x not in ['nace_r2', 'geo', 'time'] else x)\n",
    "print('Dataset exp2 was transformed into a wide format:')\n",
    "data_exp2_wide.head()"
   ]
  },
  {
   "cell_type": "code",
   "execution_count": 23,
   "id": "dc9425eb-23cf-43c2-adc1-69eaaa45d428",
   "metadata": {},
   "outputs": [
    {
     "name": "stdout",
     "output_type": "stream",
     "text": [
      "Dataset pers2 was transformed into a wide format:\n"
     ]
    },
    {
     "data": {
      "text/html": [
       "<div>\n",
       "<style scoped>\n",
       "    .dataframe tbody tr th:only-of-type {\n",
       "        vertical-align: middle;\n",
       "    }\n",
       "\n",
       "    .dataframe tbody tr th {\n",
       "        vertical-align: top;\n",
       "    }\n",
       "\n",
       "    .dataframe thead th {\n",
       "        text-align: right;\n",
       "    }\n",
       "</style>\n",
       "<table border=\"1\" class=\"dataframe\">\n",
       "  <thead>\n",
       "    <tr style=\"text-align: right;\">\n",
       "      <th></th>\n",
       "      <th>nace_r2</th>\n",
       "      <th>geo</th>\n",
       "      <th>time</th>\n",
       "      <th>pers2_FTE_RSE</th>\n",
       "      <th>pers2_FTE_TOTAL</th>\n",
       "      <th>pers2_HC_RSE</th>\n",
       "      <th>pers2_HC_TOTAL</th>\n",
       "    </tr>\n",
       "  </thead>\n",
       "  <tbody>\n",
       "    <tr>\n",
       "      <th>0</th>\n",
       "      <td>C</td>\n",
       "      <td>AL</td>\n",
       "      <td>2005</td>\n",
       "      <td>NaN</td>\n",
       "      <td>NaN</td>\n",
       "      <td>NaN</td>\n",
       "      <td>NaN</td>\n",
       "    </tr>\n",
       "    <tr>\n",
       "      <th>1</th>\n",
       "      <td>C</td>\n",
       "      <td>AL</td>\n",
       "      <td>2006</td>\n",
       "      <td>NaN</td>\n",
       "      <td>NaN</td>\n",
       "      <td>NaN</td>\n",
       "      <td>NaN</td>\n",
       "    </tr>\n",
       "    <tr>\n",
       "      <th>2</th>\n",
       "      <td>C</td>\n",
       "      <td>AL</td>\n",
       "      <td>2007</td>\n",
       "      <td>NaN</td>\n",
       "      <td>NaN</td>\n",
       "      <td>NaN</td>\n",
       "      <td>NaN</td>\n",
       "    </tr>\n",
       "    <tr>\n",
       "      <th>3</th>\n",
       "      <td>C</td>\n",
       "      <td>AL</td>\n",
       "      <td>2008</td>\n",
       "      <td>NaN</td>\n",
       "      <td>NaN</td>\n",
       "      <td>NaN</td>\n",
       "      <td>NaN</td>\n",
       "    </tr>\n",
       "    <tr>\n",
       "      <th>4</th>\n",
       "      <td>C</td>\n",
       "      <td>AL</td>\n",
       "      <td>2009</td>\n",
       "      <td>NaN</td>\n",
       "      <td>NaN</td>\n",
       "      <td>NaN</td>\n",
       "      <td>NaN</td>\n",
       "    </tr>\n",
       "  </tbody>\n",
       "</table>\n",
       "</div>"
      ],
      "text/plain": [
       "  nace_r2 geo  time  pers2_FTE_RSE  pers2_FTE_TOTAL  pers2_HC_RSE  \\\n",
       "0       C  AL  2005            NaN              NaN           NaN   \n",
       "1       C  AL  2006            NaN              NaN           NaN   \n",
       "2       C  AL  2007            NaN              NaN           NaN   \n",
       "3       C  AL  2008            NaN              NaN           NaN   \n",
       "4       C  AL  2009            NaN              NaN           NaN   \n",
       "\n",
       "   pers2_HC_TOTAL  \n",
       "0             NaN  \n",
       "1             NaN  \n",
       "2             NaN  \n",
       "3             NaN  \n",
       "4             NaN  "
      ]
     },
     "execution_count": 23,
     "metadata": {},
     "output_type": "execute_result"
    }
   ],
   "source": [
    "data_pers2_wide = data_pers2.pivot(index = ['nace_r2', 'geo', 'time', 'prof_pos'], columns = ['unit'], values = 'value').reset_index()\n",
    "data_pers2_wide = data_pers2_wide.pivot(index = ['nace_r2', 'geo', 'time'], columns = ['prof_pos'], values = ['FTE','HC']).reset_index()\n",
    "data_pers2_wide.columns = [\"_\".join([str(c) for c in col if c != \"\"])\n",
    "                            for col in data_pers2_wide.columns.to_flat_index()]\n",
    "data_pers2_wide = data_pers2_wide.rename(columns=lambda x: f\"pers2_{x}\" if x not in ['nace_r2', 'geo', 'time'] else x)\n",
    "print('Dataset pers2 was transformed into a wide format:')\n",
    "data_pers2_wide.head()"
   ]
  },
  {
   "cell_type": "markdown",
   "id": "dd0ba8bd-76e9-4dbb-8a01-a8762baeb8cc",
   "metadata": {},
   "source": [
    "## O3 Merging datasets and saving files"
   ]
  },
  {
   "cell_type": "code",
   "execution_count": 24,
   "id": "69f6798b-1073-421f-adbb-b30bd64f71f5",
   "metadata": {},
   "outputs": [
    {
     "name": "stdout",
     "output_type": "stream",
     "text": [
      "Datasets were merged:\n"
     ]
    },
    {
     "data": {
      "text/html": [
       "<div>\n",
       "<style scoped>\n",
       "    .dataframe tbody tr th:only-of-type {\n",
       "        vertical-align: middle;\n",
       "    }\n",
       "\n",
       "    .dataframe tbody tr th {\n",
       "        vertical-align: top;\n",
       "    }\n",
       "\n",
       "    .dataframe thead th {\n",
       "        text-align: right;\n",
       "    }\n",
       "</style>\n",
       "<table border=\"1\" class=\"dataframe\">\n",
       "  <thead>\n",
       "    <tr style=\"text-align: right;\">\n",
       "      <th></th>\n",
       "      <th>nace_r2</th>\n",
       "      <th>geo</th>\n",
       "      <th>time</th>\n",
       "      <th>pers2_FTE_RSE</th>\n",
       "      <th>pers2_FTE_TOTAL</th>\n",
       "      <th>pers2_HC_RSE</th>\n",
       "      <th>pers2_HC_TOTAL</th>\n",
       "      <th>exp2_MIO_EUR</th>\n",
       "      <th>exp2_PC_TOT</th>\n",
       "      <th>fem2_FTE_RSE</th>\n",
       "    </tr>\n",
       "  </thead>\n",
       "  <tbody>\n",
       "    <tr>\n",
       "      <th>4630</th>\n",
       "      <td>G-N</td>\n",
       "      <td>BE</td>\n",
       "      <td>2015</td>\n",
       "      <td>15114.0</td>\n",
       "      <td>22689.0</td>\n",
       "      <td>20244.0</td>\n",
       "      <td>32337.0</td>\n",
       "      <td>3031.829</td>\n",
       "      <td>42.84</td>\n",
       "      <td>NaN</td>\n",
       "    </tr>\n",
       "    <tr>\n",
       "      <th>606</th>\n",
       "      <td>C</td>\n",
       "      <td>MT</td>\n",
       "      <td>2022</td>\n",
       "      <td>182.0</td>\n",
       "      <td>311.0</td>\n",
       "      <td>192.0</td>\n",
       "      <td>337.0</td>\n",
       "      <td>12.340</td>\n",
       "      <td>18.91</td>\n",
       "      <td>NaN</td>\n",
       "    </tr>\n",
       "    <tr>\n",
       "      <th>2396</th>\n",
       "      <td>C_HTC_M</td>\n",
       "      <td>RO</td>\n",
       "      <td>2007</td>\n",
       "      <td>NaN</td>\n",
       "      <td>NaN</td>\n",
       "      <td>NaN</td>\n",
       "      <td>NaN</td>\n",
       "      <td>NaN</td>\n",
       "      <td>NaN</td>\n",
       "      <td>NaN</td>\n",
       "    </tr>\n",
       "    <tr>\n",
       "      <th>8061</th>\n",
       "      <td>G-N</td>\n",
       "      <td>PL</td>\n",
       "      <td>2019</td>\n",
       "      <td>35891.4</td>\n",
       "      <td>53129.1</td>\n",
       "      <td>48783.0</td>\n",
       "      <td>73510.0</td>\n",
       "      <td>NaN</td>\n",
       "      <td>NaN</td>\n",
       "      <td>19946.0</td>\n",
       "    </tr>\n",
       "    <tr>\n",
       "      <th>180</th>\n",
       "      <td>C</td>\n",
       "      <td>DE</td>\n",
       "      <td>2014</td>\n",
       "      <td>166970.0</td>\n",
       "      <td>310533.0</td>\n",
       "      <td>NaN</td>\n",
       "      <td>NaN</td>\n",
       "      <td>49482.400</td>\n",
       "      <td>86.82</td>\n",
       "      <td>NaN</td>\n",
       "    </tr>\n",
       "    <tr>\n",
       "      <th>8980</th>\n",
       "      <td>G-N</td>\n",
       "      <td>TR</td>\n",
       "      <td>2014</td>\n",
       "      <td>23388.3</td>\n",
       "      <td>32143.5</td>\n",
       "      <td>26895.0</td>\n",
       "      <td>37219.0</td>\n",
       "      <td>1404.302</td>\n",
       "      <td>46.59</td>\n",
       "      <td>37219.0</td>\n",
       "    </tr>\n",
       "    <tr>\n",
       "      <th>6615</th>\n",
       "      <td>G-N</td>\n",
       "      <td>IS</td>\n",
       "      <td>2008</td>\n",
       "      <td>NaN</td>\n",
       "      <td>NaN</td>\n",
       "      <td>NaN</td>\n",
       "      <td>NaN</td>\n",
       "      <td>NaN</td>\n",
       "      <td>NaN</td>\n",
       "      <td>NaN</td>\n",
       "    </tr>\n",
       "    <tr>\n",
       "      <th>5966</th>\n",
       "      <td>G-N</td>\n",
       "      <td>FI</td>\n",
       "      <td>2008</td>\n",
       "      <td>5489.0</td>\n",
       "      <td>8715.7</td>\n",
       "      <td>7598.0</td>\n",
       "      <td>12962.0</td>\n",
       "      <td>950.480</td>\n",
       "      <td>18.63</td>\n",
       "      <td>2854.0</td>\n",
       "    </tr>\n",
       "    <tr>\n",
       "      <th>1139</th>\n",
       "      <td>C_HTC</td>\n",
       "      <td>EL</td>\n",
       "      <td>2023</td>\n",
       "      <td>NaN</td>\n",
       "      <td>NaN</td>\n",
       "      <td>NaN</td>\n",
       "      <td>NaN</td>\n",
       "      <td>NaN</td>\n",
       "      <td>NaN</td>\n",
       "      <td>NaN</td>\n",
       "    </tr>\n",
       "    <tr>\n",
       "      <th>3909</th>\n",
       "      <td>C_LTC_M</td>\n",
       "      <td>KR</td>\n",
       "      <td>2019</td>\n",
       "      <td>21125.8</td>\n",
       "      <td>25332.8</td>\n",
       "      <td>NaN</td>\n",
       "      <td>NaN</td>\n",
       "      <td>2414.276</td>\n",
       "      <td>4.41</td>\n",
       "      <td>NaN</td>\n",
       "    </tr>\n",
       "  </tbody>\n",
       "</table>\n",
       "</div>"
      ],
      "text/plain": [
       "      nace_r2 geo  time  pers2_FTE_RSE  pers2_FTE_TOTAL  pers2_HC_RSE  \\\n",
       "4630      G-N  BE  2015        15114.0          22689.0       20244.0   \n",
       "606         C  MT  2022          182.0            311.0         192.0   \n",
       "2396  C_HTC_M  RO  2007            NaN              NaN           NaN   \n",
       "8061      G-N  PL  2019        35891.4          53129.1       48783.0   \n",
       "180         C  DE  2014       166970.0         310533.0           NaN   \n",
       "8980      G-N  TR  2014        23388.3          32143.5       26895.0   \n",
       "6615      G-N  IS  2008            NaN              NaN           NaN   \n",
       "5966      G-N  FI  2008         5489.0           8715.7        7598.0   \n",
       "1139    C_HTC  EL  2023            NaN              NaN           NaN   \n",
       "3909  C_LTC_M  KR  2019        21125.8          25332.8           NaN   \n",
       "\n",
       "      pers2_HC_TOTAL  exp2_MIO_EUR  exp2_PC_TOT  fem2_FTE_RSE  \n",
       "4630         32337.0      3031.829        42.84           NaN  \n",
       "606            337.0        12.340        18.91           NaN  \n",
       "2396             NaN           NaN          NaN           NaN  \n",
       "8061         73510.0           NaN          NaN       19946.0  \n",
       "180              NaN     49482.400        86.82           NaN  \n",
       "8980         37219.0      1404.302        46.59       37219.0  \n",
       "6615             NaN           NaN          NaN           NaN  \n",
       "5966         12962.0       950.480        18.63        2854.0  \n",
       "1139             NaN           NaN          NaN           NaN  \n",
       "3909             NaN      2414.276         4.41           NaN  "
      ]
     },
     "execution_count": 24,
     "metadata": {},
     "output_type": "execute_result"
    }
   ],
   "source": [
    "data = pd.merge(data_pers2_wide, data_exp2_wide, on = ['nace_r2', 'geo', 'time'], how = 'left') \n",
    "data = pd.merge(data, data_fem2, on = ['nace_r2', 'geo', 'time'], how = 'left') \n",
    "print('Datasets were merged:')\n",
    "data.sample(10)"
   ]
  },
  {
   "cell_type": "code",
   "execution_count": 25,
   "id": "835cfcc8-0168-4226-9d9e-d7b8fe1cb990",
   "metadata": {},
   "outputs": [
    {
     "name": "stdout",
     "output_type": "stream",
     "text": [
      "Dataset 'nace_r2' levels  :  ['C', 'C_HTC', 'C_HTC_M', 'C_LTC', 'C_LTC_M', 'G-N', 'TOTAL']\n",
      "Dataset 'geo' levels  :  ['AL', 'AT', 'BA', 'BE', 'BG', 'CH', 'CN_X_HK', 'CY', 'CZ', 'DE', 'DK', 'EA19', 'EA20', 'EE', 'EL', 'ES', 'EU27_2020', 'FI', 'FR', 'HR', 'HU', 'IE', 'IS', 'IT', 'JP', 'KR', 'LT', 'LU', 'LV', 'ME', 'MK', 'MT', 'NL', 'NO', 'PL', 'PT', 'RO', 'RS', 'RU', 'SE', 'SI', 'SK', 'TR', 'UK', 'US']\n",
      "Dataset 'time' levels  :  ['2005', '2006', '2007', '2008', '2009', '2010', '2011', '2012', '2013', '2014', '2015', '2016', '2017', '2018', '2019', '2020', '2021', '2022', '2023']\n"
     ]
    }
   ],
   "source": [
    "print('Dataset \\'nace_r2\\' levels  : ', data['nace_r2'].unique().tolist())\n",
    "print('Dataset \\'geo\\' levels  : ', data['geo'].unique().tolist())\n",
    "print('Dataset \\'time\\' levels  : ', data['time'].unique().tolist())"
   ]
  },
  {
   "cell_type": "code",
   "execution_count": 26,
   "id": "3080d92a-098b-4399-9a03-371b4cdd685e",
   "metadata": {},
   "outputs": [
    {
     "name": "stdout",
     "output_type": "stream",
     "text": [
      "Merged dataset was saved into '../data/scraper_data.csv'.\n"
     ]
    }
   ],
   "source": [
    "data.to_csv('../data/scraper_data.csv', encoding='utf-8', index = False)\n",
    "print('Merged dataset was saved into \\'../data/scraper_data.csv\\'.')"
   ]
  }
 ],
 "metadata": {
  "kernelspec": {
   "display_name": "Python 3 (ipykernel)",
   "language": "python",
   "name": "python3"
  },
  "language_info": {
   "codemirror_mode": {
    "name": "ipython",
    "version": 3
   },
   "file_extension": ".py",
   "mimetype": "text/x-python",
   "name": "python",
   "nbconvert_exporter": "python",
   "pygments_lexer": "ipython3",
   "version": "3.13.6"
  }
 },
 "nbformat": 4,
 "nbformat_minor": 5
}
